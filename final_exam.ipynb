{
 "cells": [
  {
   "cell_type": "markdown",
   "metadata": {},
   "source": [
    "기계학습 기말 대체 과제입니다\n",
    "201921018 이준배"
   ]
  },
  {
   "cell_type": "markdown",
   "metadata": {},
   "source": [
    "1. 데이터 \n",
    "학번이 짝수로 끝나므로 wine_review.csv 데이터 파일로 과제를 진행하겠습니다.\n",
    "wine_review.csv"
   ]
  },
  {
   "cell_type": "code",
   "execution_count": 155,
   "metadata": {},
   "outputs": [
    {
     "name": "stdout",
     "output_type": "stream",
     "text": [
      "                        id asins                 brand  \\\n",
      "0     AV13ClKCGV-KLJ3akN68   NaN                 Gallo   \n",
      "1     AV13CsvW-jtxr-f38AQO   NaN       Fresh Craft Co.   \n",
      "2     AV13CVI_glJLPUi8O7Po   NaN          1000 Stories   \n",
      "3     AV13CVI_glJLPUi8O7Po   NaN          1000 Stories   \n",
      "4     AV13CYL4-jtxr-f37_-t   NaN          Wine Cube153   \n",
      "...                    ...   ...                   ...   \n",
      "2885  AV654xcDYSSHbkXwoTj_   NaN  Vintage Wine Estates   \n",
      "2886  AV654xcDYSSHbkXwoTj_   NaN  Vintage Wine Estates   \n",
      "2887  AV654xcDYSSHbkXwoTj_   NaN  Vintage Wine Estates   \n",
      "2888  AV654xcDYSSHbkXwoTj_   NaN  Vintage Wine Estates   \n",
      "2889  AV654xcDYSSHbkXwoTj_   NaN  Vintage Wine Estates   \n",
      "\n",
      "                                             categories             dateAdded  \\\n",
      "0     Food & Beverage,Beverages,Wine, Beer & Liquor,...  2017-07-24T23:59:11Z   \n",
      "1     Food & Beverage,Beverages,Wine, Beer & Liquor,...  2017-07-24T23:59:42Z   \n",
      "2     Food & Beverage,Beverages,Wine, Beer & Liquor,...  2017-07-24T23:58:05Z   \n",
      "3     Food & Beverage,Beverages,Wine, Beer & Liquor,...  2017-07-24T23:58:05Z   \n",
      "4     Food & Beverage,Beverages,Wine, Beer & Liquor,...  2017-07-24T23:58:18Z   \n",
      "...                                                 ...                   ...   \n",
      "2885           Wine Shop,Kitchen and Food,View All Food  2017-09-25T16:31:30Z   \n",
      "2886           Wine Shop,Kitchen and Food,View All Food  2017-09-25T16:31:30Z   \n",
      "2887           Wine Shop,Kitchen and Food,View All Food  2017-09-25T16:31:30Z   \n",
      "2888           Wine Shop,Kitchen and Food,View All Food  2017-09-25T16:31:30Z   \n",
      "2889           Wine Shop,Kitchen and Food,View All Food  2017-09-25T16:31:30Z   \n",
      "\n",
      "               dateUpdated                                       descriptions  \\\n",
      "0     2018-01-10T18:06:28Z                                                NaN   \n",
      "1     2018-01-10T05:38:33Z  [{\"dateSeen\":[\"2017-12-21T05:43:00.000Z\",\"2017...   \n",
      "2     2018-01-10T05:38:31Z                                                NaN   \n",
      "3     2018-01-10T05:38:31Z                                                NaN   \n",
      "4     2018-01-10T18:06:29Z  [{\"dateSeen\":[\"2017-12-21T05:43:00.000Z\",\"2017...   \n",
      "...                    ...                                                ...   \n",
      "2885  2018-01-03T18:57:51Z  [{\"dateSeen\":[\"2017-12-10T09:34:00.000Z\",\"2017...   \n",
      "2886  2018-01-03T18:57:51Z  [{\"dateSeen\":[\"2017-12-10T09:34:00.000Z\",\"2017...   \n",
      "2887  2018-01-03T18:57:51Z  [{\"dateSeen\":[\"2017-12-10T09:34:00.000Z\",\"2017...   \n",
      "2888  2018-01-03T18:57:51Z  [{\"dateSeen\":[\"2017-12-10T09:34:00.000Z\",\"2017...   \n",
      "2889  2018-01-03T18:57:51Z  [{\"dateSeen\":[\"2017-12-10T09:34:00.000Z\",\"2017...   \n",
      "\n",
      "                        dimension  ean flavors  ...  \\\n",
      "0        1.0 in x 1.0 in x 1.0 in  NaN     NaN  ...   \n",
      "1     4.25 in x 4.25 in x 5.25 in  NaN     NaN  ...   \n",
      "2      3.3 in x 3.3 in x 11.79 in  NaN     NaN  ...   \n",
      "3      3.3 in x 3.3 in x 11.79 in  NaN     NaN  ...   \n",
      "4        1.0 in x 1.0 in x 1.0 in  NaN     NaN  ...   \n",
      "...                           ...  ...     ...  ...   \n",
      "2885                          NaN  NaN     NaN  ...   \n",
      "2886                          NaN  NaN     NaN  ...   \n",
      "2887                          NaN  NaN     NaN  ...   \n",
      "2888                          NaN  NaN     NaN  ...   \n",
      "2889                          NaN  NaN     NaN  ...   \n",
      "\n",
      "                                     reviews.sourceURLs  \\\n",
      "0     https://redsky.target.com/groot-domain-api/v1/...   \n",
      "1     https://redsky.target.com/groot-domain-api/v1/...   \n",
      "2     https://redsky.target.com/groot-domain-api/v1/...   \n",
      "3     https://redsky.target.com/groot-domain-api/v1/...   \n",
      "4     https://redsky.target.com/groot-domain-api/v1/...   \n",
      "...                                                 ...   \n",
      "2885  http://qvc.ugc.bazaarvoice.com/1689wcs-en_us/M...   \n",
      "2886  http://qvc.ugc.bazaarvoice.com/1689wcs-en_us/M...   \n",
      "2887  http://qvc.ugc.bazaarvoice.com/1689wcs-en_us/M...   \n",
      "2888  http://qvc.ugc.bazaarvoice.com/1689wcs-en_us/M...   \n",
      "2889  http://qvc.ugc.bazaarvoice.com/1689wcs-en_us/M...   \n",
      "\n",
      "                                           reviews.text  \\\n",
      "0         This a fantastic white wine for any occasion!   \n",
      "1      Tart, not sweet...very refreshing and delicious!   \n",
      "2     I was given this wine so it was a delightful s...   \n",
      "3     This is a phenomenal wine and my new favorite ...   \n",
      "4     4 750ml bottles for the price of two With way ...   \n",
      "...                                                 ...   \n",
      "2885  I only like a sweet wine. I was skeptical on o...   \n",
      "2886  I ordered a 3 bottle set of both the Meritage ...   \n",
      "2887  I ordered the White Zinfadel in the 3 bottle s...   \n",
      "2888  This was my first purchase of these wines. Tri...   \n",
      "2889  I don't know why the negative reviews said the...   \n",
      "\n",
      "                             reviews.title reviews.userCity  \\\n",
      "0                   My Favorite White Wine              NaN   \n",
      "1                                    Yum!!              NaN   \n",
      "2                          A New Favorite!              NaN   \n",
      "3     Bold, Flavorful, Aromatic, Delicious              NaN   \n",
      "4     Yum! Plus, Environmentally Friendly!    Overland Park   \n",
      "...                                    ...              ...   \n",
      "2885                             Excellent              NaN   \n",
      "2886                          Delicious !!              NaN   \n",
      "2887             Sumptuous delicious wine.              NaN   \n",
      "2888                     Excellent Moscato              NaN   \n",
      "2889   O'Leary's Select Reserve Chardonnay              NaN   \n",
      "\n",
      "     reviews.userProvince reviews.username sizes  \\\n",
      "0                     NaN              Bjh   NaN   \n",
      "1                     NaN             Wino   NaN   \n",
      "2                     NaN         Bama Mom   NaN   \n",
      "3                     NaN           Av Dub   NaN   \n",
      "4                     NaN       Chelseamay   NaN   \n",
      "...                   ...              ...   ...   \n",
      "2885                  NaN         Cablegal   NaN   \n",
      "2886                  NaN        Rosie6583   NaN   \n",
      "2887                  NaN      Alexandrite   NaN   \n",
      "2888                  NaN       teddybear2   NaN   \n",
      "2889                  NaN        RightAway   NaN   \n",
      "\n",
      "                                             sourceURLs          upc    weight  \n",
      "0     http://redsky.target.com/v1/plp/search?kwr=y&c...   4.9213E+11   1.0 lbs  \n",
      "1     http://redsky.target.com/v1/plp/search?kwr=y&c...  83120003441  2.45 lbs  \n",
      "2     http://redsky.target.com/v1/plp/search?kwr=y&c...  82896001453  3.09 lbs  \n",
      "3     http://redsky.target.com/v1/plp/search?kwr=y&c...  82896001453  3.09 lbs  \n",
      "4     https://redsky.target.com/groot-domain-api/v1/...  85200600465   1.0 lbs  \n",
      "...                                                 ...          ...       ...  \n",
      "2885  http://www.qvc.com/Vintage-Wine-Estates-Kevin-...          NaN       NaN  \n",
      "2886  http://www.qvc.com/Vintage-Wine-Estates-Kevin-...          NaN       NaN  \n",
      "2887  http://www.qvc.com/Vintage-Wine-Estates-Kevin-...          NaN       NaN  \n",
      "2888  http://www.qvc.com/Vintage-Wine-Estates-Kevin-...          NaN       NaN  \n",
      "2889  http://www.qvc.com/Vintage-Wine-Estates-Kevin-...          NaN       NaN  \n",
      "\n",
      "[2890 rows x 32 columns]\n"
     ]
    }
   ],
   "source": [
    "# 데이터 읽기\n",
    "import pandas as pd\n",
    "\n",
    "# CSV 파일 경로\n",
    "file_path = 'wine_review.csv'\n",
    "\n",
    "# CSV 파일 읽기\n",
    "df = pd.read_csv(file_path)\n",
    "\n",
    "# 데이터 확인\n",
    "print(df)"
   ]
  },
  {
   "cell_type": "markdown",
   "metadata": {},
   "source": [
    "데이터를 잘 읽은것을 볼 수 있습니다.\n",
    "총 2890행과 32개의 열이 있는것을 알 수 있습니다. \n",
    "데이터중 5개만 읽어와 데이터가 어떠한 데이터인지 보겠습니다."
   ]
  },
  {
   "cell_type": "code",
   "execution_count": 156,
   "metadata": {},
   "outputs": [
    {
     "data": {
      "text/html": [
       "<div>\n",
       "<style scoped>\n",
       "    .dataframe tbody tr th:only-of-type {\n",
       "        vertical-align: middle;\n",
       "    }\n",
       "\n",
       "    .dataframe tbody tr th {\n",
       "        vertical-align: top;\n",
       "    }\n",
       "\n",
       "    .dataframe thead th {\n",
       "        text-align: right;\n",
       "    }\n",
       "</style>\n",
       "<table border=\"1\" class=\"dataframe\">\n",
       "  <thead>\n",
       "    <tr style=\"text-align: right;\">\n",
       "      <th></th>\n",
       "      <th>id</th>\n",
       "      <th>asins</th>\n",
       "      <th>brand</th>\n",
       "      <th>categories</th>\n",
       "      <th>dateAdded</th>\n",
       "      <th>dateUpdated</th>\n",
       "      <th>descriptions</th>\n",
       "      <th>dimension</th>\n",
       "      <th>ean</th>\n",
       "      <th>flavors</th>\n",
       "      <th>...</th>\n",
       "      <th>reviews.sourceURLs</th>\n",
       "      <th>reviews.text</th>\n",
       "      <th>reviews.title</th>\n",
       "      <th>reviews.userCity</th>\n",
       "      <th>reviews.userProvince</th>\n",
       "      <th>reviews.username</th>\n",
       "      <th>sizes</th>\n",
       "      <th>sourceURLs</th>\n",
       "      <th>upc</th>\n",
       "      <th>weight</th>\n",
       "    </tr>\n",
       "  </thead>\n",
       "  <tbody>\n",
       "    <tr>\n",
       "      <th>0</th>\n",
       "      <td>AV13ClKCGV-KLJ3akN68</td>\n",
       "      <td>NaN</td>\n",
       "      <td>Gallo</td>\n",
       "      <td>Food &amp; Beverage,Beverages,Wine, Beer &amp; Liquor,...</td>\n",
       "      <td>2017-07-24T23:59:11Z</td>\n",
       "      <td>2018-01-10T18:06:28Z</td>\n",
       "      <td>NaN</td>\n",
       "      <td>1.0 in x 1.0 in x 1.0 in</td>\n",
       "      <td>NaN</td>\n",
       "      <td>NaN</td>\n",
       "      <td>...</td>\n",
       "      <td>https://redsky.target.com/groot-domain-api/v1/...</td>\n",
       "      <td>This a fantastic white wine for any occasion!</td>\n",
       "      <td>My Favorite White Wine</td>\n",
       "      <td>NaN</td>\n",
       "      <td>NaN</td>\n",
       "      <td>Bjh</td>\n",
       "      <td>NaN</td>\n",
       "      <td>http://redsky.target.com/v1/plp/search?kwr=y&amp;c...</td>\n",
       "      <td>4.9213E+11</td>\n",
       "      <td>1.0 lbs</td>\n",
       "    </tr>\n",
       "    <tr>\n",
       "      <th>1</th>\n",
       "      <td>AV13CsvW-jtxr-f38AQO</td>\n",
       "      <td>NaN</td>\n",
       "      <td>Fresh Craft Co.</td>\n",
       "      <td>Food &amp; Beverage,Beverages,Wine, Beer &amp; Liquor,...</td>\n",
       "      <td>2017-07-24T23:59:42Z</td>\n",
       "      <td>2018-01-10T05:38:33Z</td>\n",
       "      <td>[{\"dateSeen\":[\"2017-12-21T05:43:00.000Z\",\"2017...</td>\n",
       "      <td>4.25 in x 4.25 in x 5.25 in</td>\n",
       "      <td>NaN</td>\n",
       "      <td>NaN</td>\n",
       "      <td>...</td>\n",
       "      <td>https://redsky.target.com/groot-domain-api/v1/...</td>\n",
       "      <td>Tart, not sweet...very refreshing and delicious!</td>\n",
       "      <td>Yum!!</td>\n",
       "      <td>NaN</td>\n",
       "      <td>NaN</td>\n",
       "      <td>Wino</td>\n",
       "      <td>NaN</td>\n",
       "      <td>http://redsky.target.com/v1/plp/search?kwr=y&amp;c...</td>\n",
       "      <td>83120003441</td>\n",
       "      <td>2.45 lbs</td>\n",
       "    </tr>\n",
       "    <tr>\n",
       "      <th>2</th>\n",
       "      <td>AV13CVI_glJLPUi8O7Po</td>\n",
       "      <td>NaN</td>\n",
       "      <td>1000 Stories</td>\n",
       "      <td>Food &amp; Beverage,Beverages,Wine, Beer &amp; Liquor,...</td>\n",
       "      <td>2017-07-24T23:58:05Z</td>\n",
       "      <td>2018-01-10T05:38:31Z</td>\n",
       "      <td>NaN</td>\n",
       "      <td>3.3 in x 3.3 in x 11.79 in</td>\n",
       "      <td>NaN</td>\n",
       "      <td>NaN</td>\n",
       "      <td>...</td>\n",
       "      <td>https://redsky.target.com/groot-domain-api/v1/...</td>\n",
       "      <td>I was given this wine so it was a delightful s...</td>\n",
       "      <td>A New Favorite!</td>\n",
       "      <td>NaN</td>\n",
       "      <td>NaN</td>\n",
       "      <td>Bama Mom</td>\n",
       "      <td>NaN</td>\n",
       "      <td>http://redsky.target.com/v1/plp/search?kwr=y&amp;c...</td>\n",
       "      <td>82896001453</td>\n",
       "      <td>3.09 lbs</td>\n",
       "    </tr>\n",
       "    <tr>\n",
       "      <th>3</th>\n",
       "      <td>AV13CVI_glJLPUi8O7Po</td>\n",
       "      <td>NaN</td>\n",
       "      <td>1000 Stories</td>\n",
       "      <td>Food &amp; Beverage,Beverages,Wine, Beer &amp; Liquor,...</td>\n",
       "      <td>2017-07-24T23:58:05Z</td>\n",
       "      <td>2018-01-10T05:38:31Z</td>\n",
       "      <td>NaN</td>\n",
       "      <td>3.3 in x 3.3 in x 11.79 in</td>\n",
       "      <td>NaN</td>\n",
       "      <td>NaN</td>\n",
       "      <td>...</td>\n",
       "      <td>https://redsky.target.com/groot-domain-api/v1/...</td>\n",
       "      <td>This is a phenomenal wine and my new favorite ...</td>\n",
       "      <td>Bold, Flavorful, Aromatic, Delicious</td>\n",
       "      <td>NaN</td>\n",
       "      <td>NaN</td>\n",
       "      <td>Av Dub</td>\n",
       "      <td>NaN</td>\n",
       "      <td>http://redsky.target.com/v1/plp/search?kwr=y&amp;c...</td>\n",
       "      <td>82896001453</td>\n",
       "      <td>3.09 lbs</td>\n",
       "    </tr>\n",
       "    <tr>\n",
       "      <th>4</th>\n",
       "      <td>AV13CYL4-jtxr-f37_-t</td>\n",
       "      <td>NaN</td>\n",
       "      <td>Wine Cube153</td>\n",
       "      <td>Food &amp; Beverage,Beverages,Wine, Beer &amp; Liquor,...</td>\n",
       "      <td>2017-07-24T23:58:18Z</td>\n",
       "      <td>2018-01-10T18:06:29Z</td>\n",
       "      <td>[{\"dateSeen\":[\"2017-12-21T05:43:00.000Z\",\"2017...</td>\n",
       "      <td>1.0 in x 1.0 in x 1.0 in</td>\n",
       "      <td>NaN</td>\n",
       "      <td>NaN</td>\n",
       "      <td>...</td>\n",
       "      <td>https://redsky.target.com/groot-domain-api/v1/...</td>\n",
       "      <td>4 750ml bottles for the price of two With way ...</td>\n",
       "      <td>Yum! Plus, Environmentally Friendly!</td>\n",
       "      <td>Overland Park</td>\n",
       "      <td>NaN</td>\n",
       "      <td>Chelseamay</td>\n",
       "      <td>NaN</td>\n",
       "      <td>https://redsky.target.com/groot-domain-api/v1/...</td>\n",
       "      <td>85200600465</td>\n",
       "      <td>1.0 lbs</td>\n",
       "    </tr>\n",
       "  </tbody>\n",
       "</table>\n",
       "<p>5 rows × 32 columns</p>\n",
       "</div>"
      ],
      "text/plain": [
       "                     id asins            brand  \\\n",
       "0  AV13ClKCGV-KLJ3akN68   NaN            Gallo   \n",
       "1  AV13CsvW-jtxr-f38AQO   NaN  Fresh Craft Co.   \n",
       "2  AV13CVI_glJLPUi8O7Po   NaN     1000 Stories   \n",
       "3  AV13CVI_glJLPUi8O7Po   NaN     1000 Stories   \n",
       "4  AV13CYL4-jtxr-f37_-t   NaN     Wine Cube153   \n",
       "\n",
       "                                          categories             dateAdded  \\\n",
       "0  Food & Beverage,Beverages,Wine, Beer & Liquor,...  2017-07-24T23:59:11Z   \n",
       "1  Food & Beverage,Beverages,Wine, Beer & Liquor,...  2017-07-24T23:59:42Z   \n",
       "2  Food & Beverage,Beverages,Wine, Beer & Liquor,...  2017-07-24T23:58:05Z   \n",
       "3  Food & Beverage,Beverages,Wine, Beer & Liquor,...  2017-07-24T23:58:05Z   \n",
       "4  Food & Beverage,Beverages,Wine, Beer & Liquor,...  2017-07-24T23:58:18Z   \n",
       "\n",
       "            dateUpdated                                       descriptions  \\\n",
       "0  2018-01-10T18:06:28Z                                                NaN   \n",
       "1  2018-01-10T05:38:33Z  [{\"dateSeen\":[\"2017-12-21T05:43:00.000Z\",\"2017...   \n",
       "2  2018-01-10T05:38:31Z                                                NaN   \n",
       "3  2018-01-10T05:38:31Z                                                NaN   \n",
       "4  2018-01-10T18:06:29Z  [{\"dateSeen\":[\"2017-12-21T05:43:00.000Z\",\"2017...   \n",
       "\n",
       "                     dimension  ean flavors  ...  \\\n",
       "0     1.0 in x 1.0 in x 1.0 in  NaN     NaN  ...   \n",
       "1  4.25 in x 4.25 in x 5.25 in  NaN     NaN  ...   \n",
       "2   3.3 in x 3.3 in x 11.79 in  NaN     NaN  ...   \n",
       "3   3.3 in x 3.3 in x 11.79 in  NaN     NaN  ...   \n",
       "4     1.0 in x 1.0 in x 1.0 in  NaN     NaN  ...   \n",
       "\n",
       "                                  reviews.sourceURLs  \\\n",
       "0  https://redsky.target.com/groot-domain-api/v1/...   \n",
       "1  https://redsky.target.com/groot-domain-api/v1/...   \n",
       "2  https://redsky.target.com/groot-domain-api/v1/...   \n",
       "3  https://redsky.target.com/groot-domain-api/v1/...   \n",
       "4  https://redsky.target.com/groot-domain-api/v1/...   \n",
       "\n",
       "                                        reviews.text  \\\n",
       "0      This a fantastic white wine for any occasion!   \n",
       "1   Tart, not sweet...very refreshing and delicious!   \n",
       "2  I was given this wine so it was a delightful s...   \n",
       "3  This is a phenomenal wine and my new favorite ...   \n",
       "4  4 750ml bottles for the price of two With way ...   \n",
       "\n",
       "                          reviews.title reviews.userCity reviews.userProvince  \\\n",
       "0                My Favorite White Wine              NaN                  NaN   \n",
       "1                                 Yum!!              NaN                  NaN   \n",
       "2                       A New Favorite!              NaN                  NaN   \n",
       "3  Bold, Flavorful, Aromatic, Delicious              NaN                  NaN   \n",
       "4  Yum! Plus, Environmentally Friendly!    Overland Park                  NaN   \n",
       "\n",
       "  reviews.username sizes                                         sourceURLs  \\\n",
       "0              Bjh   NaN  http://redsky.target.com/v1/plp/search?kwr=y&c...   \n",
       "1             Wino   NaN  http://redsky.target.com/v1/plp/search?kwr=y&c...   \n",
       "2         Bama Mom   NaN  http://redsky.target.com/v1/plp/search?kwr=y&c...   \n",
       "3           Av Dub   NaN  http://redsky.target.com/v1/plp/search?kwr=y&c...   \n",
       "4       Chelseamay   NaN  https://redsky.target.com/groot-domain-api/v1/...   \n",
       "\n",
       "           upc    weight  \n",
       "0   4.9213E+11   1.0 lbs  \n",
       "1  83120003441  2.45 lbs  \n",
       "2  82896001453  3.09 lbs  \n",
       "3  82896001453  3.09 lbs  \n",
       "4  85200600465   1.0 lbs  \n",
       "\n",
       "[5 rows x 32 columns]"
      ]
     },
     "execution_count": 156,
     "metadata": {},
     "output_type": "execute_result"
    }
   ],
   "source": [
    "df.head()"
   ]
  },
  {
   "cell_type": "markdown",
   "metadata": {},
   "source": [
    "2. 데이터 전처리"
   ]
  },
  {
   "cell_type": "markdown",
   "metadata": {},
   "source": [
    "결측치가 많은 열들이 있는것을 볼 수 있습니다. \n",
    "결측치가 많은 열들을 제가하는 작업을 하겠습니다. "
   ]
  },
  {
   "cell_type": "code",
   "execution_count": 157,
   "metadata": {},
   "outputs": [
    {
     "name": "stdout",
     "output_type": "stream",
     "text": [
      "id                         0\n",
      "asins                   2020\n",
      "brand                     65\n",
      "categories                 0\n",
      "dateAdded                  0\n",
      "dateUpdated                0\n",
      "descriptions             152\n",
      "dimension               1052\n",
      "ean                      724\n",
      "flavors                 2739\n",
      "keys                       0\n",
      "manufacturer            2041\n",
      "manufacturerNumber       433\n",
      "name                       0\n",
      "reviews.date             338\n",
      "reviews.dateAdded          0\n",
      "reviews.dateSeen           0\n",
      "reviews.didPurchase      841\n",
      "reviews.doRecommend      979\n",
      "reviews.id              1005\n",
      "reviews.numHelpful      2264\n",
      "reviews.rating           445\n",
      "reviews.sourceURLs         0\n",
      "reviews.text               1\n",
      "reviews.title             44\n",
      "reviews.userCity        2808\n",
      "reviews.userProvince    2881\n",
      "reviews.username           2\n",
      "sizes                   2868\n",
      "sourceURLs                 0\n",
      "upc                      147\n",
      "weight                  1894\n",
      "dtype: int64\n"
     ]
    }
   ],
   "source": [
    "# 각 열별 결측값 수 합산하기\n",
    "missing_counts = df.isnull().sum()\n",
    "print(missing_counts)"
   ]
  },
  {
   "cell_type": "code",
   "execution_count": 158,
   "metadata": {},
   "outputs": [
    {
     "name": "stdout",
     "output_type": "stream",
     "text": [
      "['asins', 'dimension', 'flavors', 'manufacturer', 'reviews.id', 'reviews.numHelpful', 'reviews.userCity', 'reviews.userProvince', 'sizes', 'weight']\n"
     ]
    }
   ],
   "source": [
    "# 결측값이 1000개 이상인 열 선택\n",
    "columns_to_drop = missing_counts[missing_counts >= 1000].index.tolist()\n",
    "print(columns_to_drop)"
   ]
  },
  {
   "cell_type": "code",
   "execution_count": 159,
   "metadata": {},
   "outputs": [
    {
     "data": {
      "text/html": [
       "<div>\n",
       "<style scoped>\n",
       "    .dataframe tbody tr th:only-of-type {\n",
       "        vertical-align: middle;\n",
       "    }\n",
       "\n",
       "    .dataframe tbody tr th {\n",
       "        vertical-align: top;\n",
       "    }\n",
       "\n",
       "    .dataframe thead th {\n",
       "        text-align: right;\n",
       "    }\n",
       "</style>\n",
       "<table border=\"1\" class=\"dataframe\">\n",
       "  <thead>\n",
       "    <tr style=\"text-align: right;\">\n",
       "      <th></th>\n",
       "      <th>id</th>\n",
       "      <th>brand</th>\n",
       "      <th>categories</th>\n",
       "      <th>dateAdded</th>\n",
       "      <th>dateUpdated</th>\n",
       "      <th>descriptions</th>\n",
       "      <th>ean</th>\n",
       "      <th>keys</th>\n",
       "      <th>manufacturerNumber</th>\n",
       "      <th>name</th>\n",
       "      <th>...</th>\n",
       "      <th>reviews.dateSeen</th>\n",
       "      <th>reviews.didPurchase</th>\n",
       "      <th>reviews.doRecommend</th>\n",
       "      <th>reviews.rating</th>\n",
       "      <th>reviews.sourceURLs</th>\n",
       "      <th>reviews.text</th>\n",
       "      <th>reviews.title</th>\n",
       "      <th>reviews.username</th>\n",
       "      <th>sourceURLs</th>\n",
       "      <th>upc</th>\n",
       "    </tr>\n",
       "  </thead>\n",
       "  <tbody>\n",
       "    <tr>\n",
       "      <th>0</th>\n",
       "      <td>AV13ClKCGV-KLJ3akN68</td>\n",
       "      <td>Gallo</td>\n",
       "      <td>Food &amp; Beverage,Beverages,Wine, Beer &amp; Liquor,...</td>\n",
       "      <td>2017-07-24T23:59:11Z</td>\n",
       "      <td>2018-01-10T18:06:28Z</td>\n",
       "      <td>NaN</td>\n",
       "      <td>NaN</td>\n",
       "      <td>492130001994,gallo/13312834</td>\n",
       "      <td>13312834</td>\n",
       "      <td>Ecco Domani174 Pinot Grigio - 750ml Bottle</td>\n",
       "      <td>...</td>\n",
       "      <td>2017-12-14T19:41:00.000Z,2017-12-19T19:55:00.0...</td>\n",
       "      <td>NaN</td>\n",
       "      <td>True</td>\n",
       "      <td>5.0</td>\n",
       "      <td>https://redsky.target.com/groot-domain-api/v1/...</td>\n",
       "      <td>This a fantastic white wine for any occasion!</td>\n",
       "      <td>My Favorite White Wine</td>\n",
       "      <td>Bjh</td>\n",
       "      <td>http://redsky.target.com/v1/plp/search?kwr=y&amp;c...</td>\n",
       "      <td>4.9213E+11</td>\n",
       "    </tr>\n",
       "    <tr>\n",
       "      <th>1</th>\n",
       "      <td>AV13CsvW-jtxr-f38AQO</td>\n",
       "      <td>Fresh Craft Co.</td>\n",
       "      <td>Food &amp; Beverage,Beverages,Wine, Beer &amp; Liquor,...</td>\n",
       "      <td>2017-07-24T23:59:42Z</td>\n",
       "      <td>2018-01-10T05:38:33Z</td>\n",
       "      <td>[{\"dateSeen\":[\"2017-12-21T05:43:00.000Z\",\"2017...</td>\n",
       "      <td>NaN</td>\n",
       "      <td>freshcraft/50392800,083120003441</td>\n",
       "      <td>50392800</td>\n",
       "      <td>Fresh Craft174 Mango Citrus - 4pk / 250ml Bottle</td>\n",
       "      <td>...</td>\n",
       "      <td>2017-12-17T05:32:00.000Z,2017-12-21T14:32:00.0...</td>\n",
       "      <td>NaN</td>\n",
       "      <td>True</td>\n",
       "      <td>5.0</td>\n",
       "      <td>https://redsky.target.com/groot-domain-api/v1/...</td>\n",
       "      <td>Tart, not sweet...very refreshing and delicious!</td>\n",
       "      <td>Yum!!</td>\n",
       "      <td>Wino</td>\n",
       "      <td>http://redsky.target.com/v1/plp/search?kwr=y&amp;c...</td>\n",
       "      <td>83120003441</td>\n",
       "    </tr>\n",
       "    <tr>\n",
       "      <th>2</th>\n",
       "      <td>AV13CVI_glJLPUi8O7Po</td>\n",
       "      <td>1000 Stories</td>\n",
       "      <td>Food &amp; Beverage,Beverages,Wine, Beer &amp; Liquor,...</td>\n",
       "      <td>2017-07-24T23:58:05Z</td>\n",
       "      <td>2018-01-10T05:38:31Z</td>\n",
       "      <td>NaN</td>\n",
       "      <td>NaN</td>\n",
       "      <td>082896001453,1000stories/50399893</td>\n",
       "      <td>50399893</td>\n",
       "      <td>1000 Stories174 Zinfandel - 750ml Bottle</td>\n",
       "      <td>...</td>\n",
       "      <td>2017-12-17T05:30:00.000Z,2017-12-21T14:29:00.0...</td>\n",
       "      <td>NaN</td>\n",
       "      <td>True</td>\n",
       "      <td>5.0</td>\n",
       "      <td>https://redsky.target.com/groot-domain-api/v1/...</td>\n",
       "      <td>I was given this wine so it was a delightful s...</td>\n",
       "      <td>A New Favorite!</td>\n",
       "      <td>Bama Mom</td>\n",
       "      <td>http://redsky.target.com/v1/plp/search?kwr=y&amp;c...</td>\n",
       "      <td>82896001453</td>\n",
       "    </tr>\n",
       "    <tr>\n",
       "      <th>3</th>\n",
       "      <td>AV13CVI_glJLPUi8O7Po</td>\n",
       "      <td>1000 Stories</td>\n",
       "      <td>Food &amp; Beverage,Beverages,Wine, Beer &amp; Liquor,...</td>\n",
       "      <td>2017-07-24T23:58:05Z</td>\n",
       "      <td>2018-01-10T05:38:31Z</td>\n",
       "      <td>NaN</td>\n",
       "      <td>NaN</td>\n",
       "      <td>082896001453,1000stories/50399893</td>\n",
       "      <td>50399893</td>\n",
       "      <td>1000 Stories174 Zinfandel - 750ml Bottle</td>\n",
       "      <td>...</td>\n",
       "      <td>2017-09-30T00:52:32.856Z,2017-08-08T10:33:31.6...</td>\n",
       "      <td>NaN</td>\n",
       "      <td>True</td>\n",
       "      <td>5.0</td>\n",
       "      <td>https://redsky.target.com/groot-domain-api/v1/...</td>\n",
       "      <td>This is a phenomenal wine and my new favorite ...</td>\n",
       "      <td>Bold, Flavorful, Aromatic, Delicious</td>\n",
       "      <td>Av Dub</td>\n",
       "      <td>http://redsky.target.com/v1/plp/search?kwr=y&amp;c...</td>\n",
       "      <td>82896001453</td>\n",
       "    </tr>\n",
       "    <tr>\n",
       "      <th>4</th>\n",
       "      <td>AV13CYL4-jtxr-f37_-t</td>\n",
       "      <td>Wine Cube153</td>\n",
       "      <td>Food &amp; Beverage,Beverages,Wine, Beer &amp; Liquor,...</td>\n",
       "      <td>2017-07-24T23:58:18Z</td>\n",
       "      <td>2018-01-10T18:06:29Z</td>\n",
       "      <td>[{\"dateSeen\":[\"2017-12-21T05:43:00.000Z\",\"2017...</td>\n",
       "      <td>NaN</td>\n",
       "      <td>winecube153/14831433,085200600465</td>\n",
       "      <td>14831433</td>\n",
       "      <td>Pink Moscato - 3l Bottle - Wine Cube153</td>\n",
       "      <td>...</td>\n",
       "      <td>2017-12-16T09:19:00.000Z,2017-12-20T16:57:00.0...</td>\n",
       "      <td>NaN</td>\n",
       "      <td>True</td>\n",
       "      <td>5.0</td>\n",
       "      <td>https://redsky.target.com/groot-domain-api/v1/...</td>\n",
       "      <td>4 750ml bottles for the price of two With way ...</td>\n",
       "      <td>Yum! Plus, Environmentally Friendly!</td>\n",
       "      <td>Chelseamay</td>\n",
       "      <td>https://redsky.target.com/groot-domain-api/v1/...</td>\n",
       "      <td>85200600465</td>\n",
       "    </tr>\n",
       "  </tbody>\n",
       "</table>\n",
       "<p>5 rows × 22 columns</p>\n",
       "</div>"
      ],
      "text/plain": [
       "                     id            brand  \\\n",
       "0  AV13ClKCGV-KLJ3akN68            Gallo   \n",
       "1  AV13CsvW-jtxr-f38AQO  Fresh Craft Co.   \n",
       "2  AV13CVI_glJLPUi8O7Po     1000 Stories   \n",
       "3  AV13CVI_glJLPUi8O7Po     1000 Stories   \n",
       "4  AV13CYL4-jtxr-f37_-t     Wine Cube153   \n",
       "\n",
       "                                          categories             dateAdded  \\\n",
       "0  Food & Beverage,Beverages,Wine, Beer & Liquor,...  2017-07-24T23:59:11Z   \n",
       "1  Food & Beverage,Beverages,Wine, Beer & Liquor,...  2017-07-24T23:59:42Z   \n",
       "2  Food & Beverage,Beverages,Wine, Beer & Liquor,...  2017-07-24T23:58:05Z   \n",
       "3  Food & Beverage,Beverages,Wine, Beer & Liquor,...  2017-07-24T23:58:05Z   \n",
       "4  Food & Beverage,Beverages,Wine, Beer & Liquor,...  2017-07-24T23:58:18Z   \n",
       "\n",
       "            dateUpdated                                       descriptions  \\\n",
       "0  2018-01-10T18:06:28Z                                                NaN   \n",
       "1  2018-01-10T05:38:33Z  [{\"dateSeen\":[\"2017-12-21T05:43:00.000Z\",\"2017...   \n",
       "2  2018-01-10T05:38:31Z                                                NaN   \n",
       "3  2018-01-10T05:38:31Z                                                NaN   \n",
       "4  2018-01-10T18:06:29Z  [{\"dateSeen\":[\"2017-12-21T05:43:00.000Z\",\"2017...   \n",
       "\n",
       "   ean                               keys manufacturerNumber  \\\n",
       "0  NaN        492130001994,gallo/13312834           13312834   \n",
       "1  NaN   freshcraft/50392800,083120003441           50392800   \n",
       "2  NaN  082896001453,1000stories/50399893           50399893   \n",
       "3  NaN  082896001453,1000stories/50399893           50399893   \n",
       "4  NaN  winecube153/14831433,085200600465           14831433   \n",
       "\n",
       "                                               name  ...  \\\n",
       "0        Ecco Domani174 Pinot Grigio - 750ml Bottle  ...   \n",
       "1  Fresh Craft174 Mango Citrus - 4pk / 250ml Bottle  ...   \n",
       "2          1000 Stories174 Zinfandel - 750ml Bottle  ...   \n",
       "3          1000 Stories174 Zinfandel - 750ml Bottle  ...   \n",
       "4           Pink Moscato - 3l Bottle - Wine Cube153  ...   \n",
       "\n",
       "                                    reviews.dateSeen reviews.didPurchase  \\\n",
       "0  2017-12-14T19:41:00.000Z,2017-12-19T19:55:00.0...                 NaN   \n",
       "1  2017-12-17T05:32:00.000Z,2017-12-21T14:32:00.0...                 NaN   \n",
       "2  2017-12-17T05:30:00.000Z,2017-12-21T14:29:00.0...                 NaN   \n",
       "3  2017-09-30T00:52:32.856Z,2017-08-08T10:33:31.6...                 NaN   \n",
       "4  2017-12-16T09:19:00.000Z,2017-12-20T16:57:00.0...                 NaN   \n",
       "\n",
       "  reviews.doRecommend reviews.rating  \\\n",
       "0                True            5.0   \n",
       "1                True            5.0   \n",
       "2                True            5.0   \n",
       "3                True            5.0   \n",
       "4                True            5.0   \n",
       "\n",
       "                                  reviews.sourceURLs  \\\n",
       "0  https://redsky.target.com/groot-domain-api/v1/...   \n",
       "1  https://redsky.target.com/groot-domain-api/v1/...   \n",
       "2  https://redsky.target.com/groot-domain-api/v1/...   \n",
       "3  https://redsky.target.com/groot-domain-api/v1/...   \n",
       "4  https://redsky.target.com/groot-domain-api/v1/...   \n",
       "\n",
       "                                        reviews.text  \\\n",
       "0      This a fantastic white wine for any occasion!   \n",
       "1   Tart, not sweet...very refreshing and delicious!   \n",
       "2  I was given this wine so it was a delightful s...   \n",
       "3  This is a phenomenal wine and my new favorite ...   \n",
       "4  4 750ml bottles for the price of two With way ...   \n",
       "\n",
       "                          reviews.title reviews.username  \\\n",
       "0                My Favorite White Wine              Bjh   \n",
       "1                                 Yum!!             Wino   \n",
       "2                       A New Favorite!         Bama Mom   \n",
       "3  Bold, Flavorful, Aromatic, Delicious           Av Dub   \n",
       "4  Yum! Plus, Environmentally Friendly!       Chelseamay   \n",
       "\n",
       "                                          sourceURLs          upc  \n",
       "0  http://redsky.target.com/v1/plp/search?kwr=y&c...   4.9213E+11  \n",
       "1  http://redsky.target.com/v1/plp/search?kwr=y&c...  83120003441  \n",
       "2  http://redsky.target.com/v1/plp/search?kwr=y&c...  82896001453  \n",
       "3  http://redsky.target.com/v1/plp/search?kwr=y&c...  82896001453  \n",
       "4  https://redsky.target.com/groot-domain-api/v1/...  85200600465  \n",
       "\n",
       "[5 rows x 22 columns]"
      ]
     },
     "execution_count": 159,
     "metadata": {},
     "output_type": "execute_result"
    }
   ],
   "source": [
    "# 결측값이 1000개 이상인 열 제거\n",
    "df = df.drop(columns=columns_to_drop)\n",
    "df.head()"
   ]
  },
  {
   "cell_type": "code",
   "execution_count": 160,
   "metadata": {},
   "outputs": [
    {
     "name": "stdout",
     "output_type": "stream",
     "text": [
      "id                       0\n",
      "brand                   65\n",
      "categories               0\n",
      "dateAdded                0\n",
      "dateUpdated              0\n",
      "descriptions           152\n",
      "ean                    724\n",
      "keys                     0\n",
      "manufacturerNumber     433\n",
      "name                     0\n",
      "reviews.date           338\n",
      "reviews.dateAdded        0\n",
      "reviews.dateSeen         0\n",
      "reviews.didPurchase    841\n",
      "reviews.doRecommend    979\n",
      "reviews.rating         445\n",
      "reviews.sourceURLs       0\n",
      "reviews.text             1\n",
      "reviews.title           44\n",
      "reviews.username         2\n",
      "sourceURLs               0\n",
      "upc                    147\n",
      "dtype: int64\n"
     ]
    }
   ],
   "source": [
    "# 확인하기\n",
    "missing_counts = df.isnull().sum()\n",
    "print(missing_counts)"
   ]
  },
  {
   "cell_type": "markdown",
   "metadata": {},
   "source": [
    "다시 확인해보니 결측치가 1000개 이상인 행은 없는것으로 보여집니다."
   ]
  },
  {
   "cell_type": "markdown",
   "metadata": {},
   "source": [
    "다음으로는 결측값이 있는 행을 제거하겠습니다."
   ]
  },
  {
   "cell_type": "code",
   "execution_count": 161,
   "metadata": {},
   "outputs": [
    {
     "name": "stdout",
     "output_type": "stream",
     "text": [
      "id                     0\n",
      "brand                  0\n",
      "categories             0\n",
      "dateAdded              0\n",
      "dateUpdated            0\n",
      "descriptions           0\n",
      "ean                    0\n",
      "keys                   0\n",
      "manufacturerNumber     0\n",
      "name                   0\n",
      "reviews.date           0\n",
      "reviews.dateAdded      0\n",
      "reviews.dateSeen       0\n",
      "reviews.didPurchase    0\n",
      "reviews.doRecommend    0\n",
      "reviews.rating         0\n",
      "reviews.sourceURLs     0\n",
      "reviews.text           0\n",
      "reviews.title          0\n",
      "reviews.username       0\n",
      "sourceURLs             0\n",
      "upc                    0\n",
      "dtype: int64\n"
     ]
    }
   ],
   "source": [
    "df = df.dropna(axis=0)\n",
    "missing_counts = df.isnull().sum()\n",
    "print(missing_counts)"
   ]
  },
  {
   "cell_type": "markdown",
   "metadata": {},
   "source": [
    "잘 실행된것을 볼 수 있습니다.\n",
    "다음으로는 필요한 열들만 추출하겠습니다."
   ]
  },
  {
   "cell_type": "code",
   "execution_count": 162,
   "metadata": {},
   "outputs": [
    {
     "name": "stdout",
     "output_type": "stream",
     "text": [
      "['id', 'brand', 'categories', 'dateAdded', 'dateUpdated', 'descriptions', 'ean', 'keys', 'manufacturerNumber', 'name', 'reviews.date', 'reviews.dateAdded', 'reviews.dateSeen', 'reviews.didPurchase', 'reviews.doRecommend', 'reviews.rating', 'reviews.sourceURLs', 'reviews.text', 'reviews.title', 'reviews.username', 'sourceURLs', 'upc']\n"
     ]
    }
   ],
   "source": [
    "column_names = df.columns.tolist()\n",
    "print(column_names)"
   ]
  },
  {
   "cell_type": "markdown",
   "metadata": {},
   "source": [
    "name, reviews.text,reviews.title,reviews.rating만 필요할거 같으니 이 열들만 추출하겠습니다."
   ]
  },
  {
   "cell_type": "code",
   "execution_count": 163,
   "metadata": {},
   "outputs": [
    {
     "data": {
      "text/html": [
       "<div>\n",
       "<style scoped>\n",
       "    .dataframe tbody tr th:only-of-type {\n",
       "        vertical-align: middle;\n",
       "    }\n",
       "\n",
       "    .dataframe tbody tr th {\n",
       "        vertical-align: top;\n",
       "    }\n",
       "\n",
       "    .dataframe thead th {\n",
       "        text-align: right;\n",
       "    }\n",
       "</style>\n",
       "<table border=\"1\" class=\"dataframe\">\n",
       "  <thead>\n",
       "    <tr style=\"text-align: right;\">\n",
       "      <th></th>\n",
       "      <th>name</th>\n",
       "      <th>reviews.title</th>\n",
       "      <th>reviews.text</th>\n",
       "      <th>reviews.rating</th>\n",
       "    </tr>\n",
       "  </thead>\n",
       "  <tbody>\n",
       "    <tr>\n",
       "      <th>67</th>\n",
       "      <td>Bogle Vineyards174 Chardonnay - 750ml Bottle</td>\n",
       "      <td>delicious</td>\n",
       "      <td>This wine is full-bodied and delicious.</td>\n",
       "      <td>5.0</td>\n",
       "    </tr>\n",
       "    <tr>\n",
       "      <th>90</th>\n",
       "      <td>Jim Beam174 Bourbon Whiskey - 1.75l Bottle</td>\n",
       "      <td>Best price</td>\n",
       "      <td>This is our favorite mixed drink whiskey and s...</td>\n",
       "      <td>5.0</td>\n",
       "    </tr>\n",
       "    <tr>\n",
       "      <th>91</th>\n",
       "      <td>Jim Beam174 Bourbon Whiskey - 1.75l Bottle</td>\n",
       "      <td>Great product</td>\n",
       "      <td>Best whiskey around and a price that can't be ...</td>\n",
       "      <td>5.0</td>\n",
       "    </tr>\n",
       "    <tr>\n",
       "      <th>95</th>\n",
       "      <td>El Jimador174 Tequila Reposado - 750ml Bottle</td>\n",
       "      <td>Love</td>\n",
       "      <td>I always buy this item at Walmart cause they a...</td>\n",
       "      <td>5.0</td>\n",
       "    </tr>\n",
       "    <tr>\n",
       "      <th>116</th>\n",
       "      <td>Seagram's174 Escapes Malt Beverage Variety Pac...</td>\n",
       "      <td>seagrams escapes</td>\n",
       "      <td>love all of the flavors. will be buying again....</td>\n",
       "      <td>5.0</td>\n",
       "    </tr>\n",
       "  </tbody>\n",
       "</table>\n",
       "</div>"
      ],
      "text/plain": [
       "                                                  name     reviews.title  \\\n",
       "67        Bogle Vineyards174 Chardonnay - 750ml Bottle         delicious   \n",
       "90          Jim Beam174 Bourbon Whiskey - 1.75l Bottle        Best price   \n",
       "91          Jim Beam174 Bourbon Whiskey - 1.75l Bottle     Great product   \n",
       "95       El Jimador174 Tequila Reposado - 750ml Bottle              Love   \n",
       "116  Seagram's174 Escapes Malt Beverage Variety Pac...  seagrams escapes   \n",
       "\n",
       "                                          reviews.text  reviews.rating  \n",
       "67             This wine is full-bodied and delicious.             5.0  \n",
       "90   This is our favorite mixed drink whiskey and s...             5.0  \n",
       "91   Best whiskey around and a price that can't be ...             5.0  \n",
       "95   I always buy this item at Walmart cause they a...             5.0  \n",
       "116  love all of the flavors. will be buying again....             5.0  "
      ]
     },
     "execution_count": 163,
     "metadata": {},
     "output_type": "execute_result"
    }
   ],
   "source": [
    "df = df[['name', 'reviews.title','reviews.text' ,'reviews.rating']]\n",
    "df.head()"
   ]
  },
  {
   "cell_type": "markdown",
   "metadata": {},
   "source": [
    "다음으로는 노이즈제거를 하겠습니다."
   ]
  },
  {
   "cell_type": "code",
   "execution_count": 164,
   "metadata": {},
   "outputs": [],
   "source": [
    "import re\n",
    "# 노이즈 제거 함수 정의\n",
    "def clean_text(text):\n",
    "    # 소문자 변환\n",
    "    text = text.lower()\n",
    "    # 특수문자 제거\n",
    "    text = re.sub(r'[^a-zA-Z\\s]', '', text)\n",
    "    return text\n",
    "\n",
    "# reviews.text 열에 clean_text 함수 적용\n",
    "df['reviews.text'] = df['reviews.text'].apply(clean_text)\n"
   ]
  },
  {
   "cell_type": "code",
   "execution_count": 165,
   "metadata": {},
   "outputs": [
    {
     "data": {
      "text/html": [
       "<div>\n",
       "<style scoped>\n",
       "    .dataframe tbody tr th:only-of-type {\n",
       "        vertical-align: middle;\n",
       "    }\n",
       "\n",
       "    .dataframe tbody tr th {\n",
       "        vertical-align: top;\n",
       "    }\n",
       "\n",
       "    .dataframe thead th {\n",
       "        text-align: right;\n",
       "    }\n",
       "</style>\n",
       "<table border=\"1\" class=\"dataframe\">\n",
       "  <thead>\n",
       "    <tr style=\"text-align: right;\">\n",
       "      <th></th>\n",
       "      <th>name</th>\n",
       "      <th>reviews.title</th>\n",
       "      <th>reviews.text</th>\n",
       "      <th>reviews.rating</th>\n",
       "    </tr>\n",
       "  </thead>\n",
       "  <tbody>\n",
       "    <tr>\n",
       "      <th>67</th>\n",
       "      <td>Bogle Vineyards174 Chardonnay - 750ml Bottle</td>\n",
       "      <td>delicious</td>\n",
       "      <td>this wine is fullbodied and delicious</td>\n",
       "      <td>5.0</td>\n",
       "    </tr>\n",
       "    <tr>\n",
       "      <th>90</th>\n",
       "      <td>Jim Beam174 Bourbon Whiskey - 1.75l Bottle</td>\n",
       "      <td>Best price</td>\n",
       "      <td>this is our favorite mixed drink whiskey and s...</td>\n",
       "      <td>5.0</td>\n",
       "    </tr>\n",
       "    <tr>\n",
       "      <th>91</th>\n",
       "      <td>Jim Beam174 Bourbon Whiskey - 1.75l Bottle</td>\n",
       "      <td>Great product</td>\n",
       "      <td>best whiskey around and a price that cant be beat</td>\n",
       "      <td>5.0</td>\n",
       "    </tr>\n",
       "    <tr>\n",
       "      <th>95</th>\n",
       "      <td>El Jimador174 Tequila Reposado - 750ml Bottle</td>\n",
       "      <td>Love</td>\n",
       "      <td>i always buy this item at walmart cause they a...</td>\n",
       "      <td>5.0</td>\n",
       "    </tr>\n",
       "    <tr>\n",
       "      <th>116</th>\n",
       "      <td>Seagram's174 Escapes Malt Beverage Variety Pac...</td>\n",
       "      <td>seagrams escapes</td>\n",
       "      <td>love all of the flavors will be buying again g...</td>\n",
       "      <td>5.0</td>\n",
       "    </tr>\n",
       "  </tbody>\n",
       "</table>\n",
       "</div>"
      ],
      "text/plain": [
       "                                                  name     reviews.title  \\\n",
       "67        Bogle Vineyards174 Chardonnay - 750ml Bottle         delicious   \n",
       "90          Jim Beam174 Bourbon Whiskey - 1.75l Bottle        Best price   \n",
       "91          Jim Beam174 Bourbon Whiskey - 1.75l Bottle     Great product   \n",
       "95       El Jimador174 Tequila Reposado - 750ml Bottle              Love   \n",
       "116  Seagram's174 Escapes Malt Beverage Variety Pac...  seagrams escapes   \n",
       "\n",
       "                                          reviews.text  reviews.rating  \n",
       "67               this wine is fullbodied and delicious             5.0  \n",
       "90   this is our favorite mixed drink whiskey and s...             5.0  \n",
       "91   best whiskey around and a price that cant be beat             5.0  \n",
       "95   i always buy this item at walmart cause they a...             5.0  \n",
       "116  love all of the flavors will be buying again g...             5.0  "
      ]
     },
     "execution_count": 165,
     "metadata": {},
     "output_type": "execute_result"
    }
   ],
   "source": [
    "df.head()"
   ]
  },
  {
   "cell_type": "markdown",
   "metadata": {},
   "source": [
    "reviews.text와 reviews.title에 대문자가 소문자로 바뀌고 특수문자가 없어졌음을 알 수 있습니다."
   ]
  },
  {
   "cell_type": "markdown",
   "metadata": {},
   "source": [
    "다음은 불용어 제거 입니다. \n",
    "nltk 라이브러리의 stopwords 불용어들을 활용해 제거하겠습니다."
   ]
  },
  {
   "cell_type": "code",
   "execution_count": 166,
   "metadata": {},
   "outputs": [
    {
     "name": "stdout",
     "output_type": "stream",
     "text": [
      "Requirement already satisfied: nltk in /usr/local/python/3.10.13/lib/python3.10/site-packages (3.8.1)\n",
      "Requirement already satisfied: click in /usr/local/python/3.10.13/lib/python3.10/site-packages (from nltk) (8.1.7)\n",
      "Requirement already satisfied: joblib in /home/codespace/.local/lib/python3.10/site-packages (from nltk) (1.4.2)\n",
      "Requirement already satisfied: regex>=2021.8.3 in /usr/local/python/3.10.13/lib/python3.10/site-packages (from nltk) (2024.5.15)\n",
      "Requirement already satisfied: tqdm in /usr/local/python/3.10.13/lib/python3.10/site-packages (from nltk) (4.66.4)\n"
     ]
    },
    {
     "name": "stderr",
     "output_type": "stream",
     "text": [
      "[nltk_data] Downloading package stopwords to\n",
      "[nltk_data]     /home/codespace/nltk_data...\n",
      "[nltk_data]   Package stopwords is already up-to-date!\n"
     ]
    }
   ],
   "source": [
    "! pip install nltk\n",
    "import nltk\n",
    "from nltk.corpus import stopwords\n",
    "nltk.download('stopwords')\n",
    "\n",
    "# 영어의 불용어를 가져와 cache에 저장\n",
    "cache = set(stopwords.words(\"english\"))\n",
    "\n",
    "# 불용어 제거 함수 정의\n",
    "def remove_stopwords(review):\n",
    "    text = \" \".join([word for word in review.split() if word not in cache])\n",
    "    return text\n",
    "\n",
    "# reviews.text에 remove_stopwords 함수 적용\n",
    "df['reviews.text'] = df['reviews.text'].apply(remove_stopwords)   \n"
   ]
  },
  {
   "cell_type": "code",
   "execution_count": 167,
   "metadata": {},
   "outputs": [
    {
     "data": {
      "text/html": [
       "<div>\n",
       "<style scoped>\n",
       "    .dataframe tbody tr th:only-of-type {\n",
       "        vertical-align: middle;\n",
       "    }\n",
       "\n",
       "    .dataframe tbody tr th {\n",
       "        vertical-align: top;\n",
       "    }\n",
       "\n",
       "    .dataframe thead th {\n",
       "        text-align: right;\n",
       "    }\n",
       "</style>\n",
       "<table border=\"1\" class=\"dataframe\">\n",
       "  <thead>\n",
       "    <tr style=\"text-align: right;\">\n",
       "      <th></th>\n",
       "      <th>name</th>\n",
       "      <th>reviews.title</th>\n",
       "      <th>reviews.text</th>\n",
       "      <th>reviews.rating</th>\n",
       "    </tr>\n",
       "  </thead>\n",
       "  <tbody>\n",
       "    <tr>\n",
       "      <th>67</th>\n",
       "      <td>Bogle Vineyards174 Chardonnay - 750ml Bottle</td>\n",
       "      <td>delicious</td>\n",
       "      <td>wine fullbodied delicious</td>\n",
       "      <td>5.0</td>\n",
       "    </tr>\n",
       "    <tr>\n",
       "      <th>90</th>\n",
       "      <td>Jim Beam174 Bourbon Whiskey - 1.75l Bottle</td>\n",
       "      <td>Best price</td>\n",
       "      <td>favorite mixed drink whiskey sams best price h...</td>\n",
       "      <td>5.0</td>\n",
       "    </tr>\n",
       "    <tr>\n",
       "      <th>91</th>\n",
       "      <td>Jim Beam174 Bourbon Whiskey - 1.75l Bottle</td>\n",
       "      <td>Great product</td>\n",
       "      <td>best whiskey around price cant beat</td>\n",
       "      <td>5.0</td>\n",
       "    </tr>\n",
       "    <tr>\n",
       "      <th>95</th>\n",
       "      <td>El Jimador174 Tequila Reposado - 750ml Bottle</td>\n",
       "      <td>Love</td>\n",
       "      <td>always buy item walmart cause always great price</td>\n",
       "      <td>5.0</td>\n",
       "    </tr>\n",
       "    <tr>\n",
       "      <th>116</th>\n",
       "      <td>Seagram's174 Escapes Malt Beverage Variety Pac...</td>\n",
       "      <td>seagrams escapes</td>\n",
       "      <td>love flavors buying great summer drinks</td>\n",
       "      <td>5.0</td>\n",
       "    </tr>\n",
       "  </tbody>\n",
       "</table>\n",
       "</div>"
      ],
      "text/plain": [
       "                                                  name     reviews.title  \\\n",
       "67        Bogle Vineyards174 Chardonnay - 750ml Bottle         delicious   \n",
       "90          Jim Beam174 Bourbon Whiskey - 1.75l Bottle        Best price   \n",
       "91          Jim Beam174 Bourbon Whiskey - 1.75l Bottle     Great product   \n",
       "95       El Jimador174 Tequila Reposado - 750ml Bottle              Love   \n",
       "116  Seagram's174 Escapes Malt Beverage Variety Pac...  seagrams escapes   \n",
       "\n",
       "                                          reviews.text  reviews.rating  \n",
       "67                           wine fullbodied delicious             5.0  \n",
       "90   favorite mixed drink whiskey sams best price h...             5.0  \n",
       "91                 best whiskey around price cant beat             5.0  \n",
       "95    always buy item walmart cause always great price             5.0  \n",
       "116            love flavors buying great summer drinks             5.0  "
      ]
     },
     "execution_count": 167,
     "metadata": {},
     "output_type": "execute_result"
    }
   ],
   "source": [
    "df.head()"
   ]
  },
  {
   "cell_type": "markdown",
   "metadata": {},
   "source": [
    "첫번째 review.text에서는 this 네번째 review.text에선 i 등과 같은 단어들이 사라진것을 볼 수 있습니다."
   ]
  },
  {
   "cell_type": "markdown",
   "metadata": {},
   "source": [
    "다음으로는 토큰화 입니다. \n",
    "토큰화는 주어진 텍스트를 작은 단위로 나누는 작업입니다."
   ]
  },
  {
   "cell_type": "code",
   "execution_count": 168,
   "metadata": {},
   "outputs": [
    {
     "name": "stderr",
     "output_type": "stream",
     "text": [
      "[nltk_data] Downloading package punkt to /home/codespace/nltk_data...\n",
      "[nltk_data]   Package punkt is already up-to-date!\n"
     ]
    }
   ],
   "source": [
    "from nltk.tokenize import word_tokenize\n",
    "\n",
    "# 토큰화에 필요한 NLTK 데이터 파일 다운로드\n",
    "nltk.download('punkt')\n",
    "\n",
    "# 토큰화 함수 정의\n",
    "def tokenize(text):\n",
    "    tokens = word_tokenize(text)  # 토큰화\n",
    "    return tokens\n",
    "\n",
    "# reviews.text에 tokenize 함수 적용\n",
    "df['reviews.text'] = df['reviews.text'].apply(tokenize)   \n"
   ]
  },
  {
   "cell_type": "code",
   "execution_count": 169,
   "metadata": {},
   "outputs": [
    {
     "data": {
      "text/html": [
       "<div>\n",
       "<style scoped>\n",
       "    .dataframe tbody tr th:only-of-type {\n",
       "        vertical-align: middle;\n",
       "    }\n",
       "\n",
       "    .dataframe tbody tr th {\n",
       "        vertical-align: top;\n",
       "    }\n",
       "\n",
       "    .dataframe thead th {\n",
       "        text-align: right;\n",
       "    }\n",
       "</style>\n",
       "<table border=\"1\" class=\"dataframe\">\n",
       "  <thead>\n",
       "    <tr style=\"text-align: right;\">\n",
       "      <th></th>\n",
       "      <th>name</th>\n",
       "      <th>reviews.title</th>\n",
       "      <th>reviews.text</th>\n",
       "      <th>reviews.rating</th>\n",
       "    </tr>\n",
       "  </thead>\n",
       "  <tbody>\n",
       "    <tr>\n",
       "      <th>67</th>\n",
       "      <td>Bogle Vineyards174 Chardonnay - 750ml Bottle</td>\n",
       "      <td>delicious</td>\n",
       "      <td>[wine, fullbodied, delicious]</td>\n",
       "      <td>5.0</td>\n",
       "    </tr>\n",
       "    <tr>\n",
       "      <th>90</th>\n",
       "      <td>Jim Beam174 Bourbon Whiskey - 1.75l Bottle</td>\n",
       "      <td>Best price</td>\n",
       "      <td>[favorite, mixed, drink, whiskey, sams, best, ...</td>\n",
       "      <td>5.0</td>\n",
       "    </tr>\n",
       "    <tr>\n",
       "      <th>91</th>\n",
       "      <td>Jim Beam174 Bourbon Whiskey - 1.75l Bottle</td>\n",
       "      <td>Great product</td>\n",
       "      <td>[best, whiskey, around, price, cant, beat]</td>\n",
       "      <td>5.0</td>\n",
       "    </tr>\n",
       "    <tr>\n",
       "      <th>95</th>\n",
       "      <td>El Jimador174 Tequila Reposado - 750ml Bottle</td>\n",
       "      <td>Love</td>\n",
       "      <td>[always, buy, item, walmart, cause, always, gr...</td>\n",
       "      <td>5.0</td>\n",
       "    </tr>\n",
       "    <tr>\n",
       "      <th>116</th>\n",
       "      <td>Seagram's174 Escapes Malt Beverage Variety Pac...</td>\n",
       "      <td>seagrams escapes</td>\n",
       "      <td>[love, flavors, buying, great, summer, drinks]</td>\n",
       "      <td>5.0</td>\n",
       "    </tr>\n",
       "  </tbody>\n",
       "</table>\n",
       "</div>"
      ],
      "text/plain": [
       "                                                  name     reviews.title  \\\n",
       "67        Bogle Vineyards174 Chardonnay - 750ml Bottle         delicious   \n",
       "90          Jim Beam174 Bourbon Whiskey - 1.75l Bottle        Best price   \n",
       "91          Jim Beam174 Bourbon Whiskey - 1.75l Bottle     Great product   \n",
       "95       El Jimador174 Tequila Reposado - 750ml Bottle              Love   \n",
       "116  Seagram's174 Escapes Malt Beverage Variety Pac...  seagrams escapes   \n",
       "\n",
       "                                          reviews.text  reviews.rating  \n",
       "67                       [wine, fullbodied, delicious]             5.0  \n",
       "90   [favorite, mixed, drink, whiskey, sams, best, ...             5.0  \n",
       "91          [best, whiskey, around, price, cant, beat]             5.0  \n",
       "95   [always, buy, item, walmart, cause, always, gr...             5.0  \n",
       "116     [love, flavors, buying, great, summer, drinks]             5.0  "
      ]
     },
     "execution_count": 169,
     "metadata": {},
     "output_type": "execute_result"
    }
   ],
   "source": [
    "df.head()"
   ]
  },
  {
   "cell_type": "markdown",
   "metadata": {},
   "source": [
    "토큰화까지 잘 된것을 볼 수 있습니다."
   ]
  },
  {
   "cell_type": "markdown",
   "metadata": {},
   "source": [
    "표제어 추출하기 입니다.\n",
    "영어 단어의 원형을 변환하는 작업입니다. 예를들어 am, are is를 원형인 be로 바꿔주는 작업입니다."
   ]
  },
  {
   "cell_type": "code",
   "execution_count": 170,
   "metadata": {},
   "outputs": [
    {
     "name": "stderr",
     "output_type": "stream",
     "text": [
      "[nltk_data] Downloading package wordnet to\n",
      "[nltk_data]     /home/codespace/nltk_data...\n",
      "[nltk_data]   Package wordnet is already up-to-date!\n"
     ]
    }
   ],
   "source": [
    "from nltk.stem import WordNetLemmatizer\n",
    "# 표제어 추출에 필요한 NLTK 데이터 파일 다운로드\n",
    "nltk.download('wordnet')\n",
    "# 표제어 추출 함수 정의\n",
    "def lemmatize(tokens):\n",
    "    lemmatizer = WordNetLemmatizer()\n",
    "    return [lemmatizer.lemmatize(token) for token in tokens]\n",
    "\n",
    "# reviews.text에 lemmatize 함수 적용\n",
    "df['reviews.text'] = df['reviews.text'].apply(lemmatize)   "
   ]
  },
  {
   "cell_type": "code",
   "execution_count": 171,
   "metadata": {},
   "outputs": [
    {
     "data": {
      "text/html": [
       "<div>\n",
       "<style scoped>\n",
       "    .dataframe tbody tr th:only-of-type {\n",
       "        vertical-align: middle;\n",
       "    }\n",
       "\n",
       "    .dataframe tbody tr th {\n",
       "        vertical-align: top;\n",
       "    }\n",
       "\n",
       "    .dataframe thead th {\n",
       "        text-align: right;\n",
       "    }\n",
       "</style>\n",
       "<table border=\"1\" class=\"dataframe\">\n",
       "  <thead>\n",
       "    <tr style=\"text-align: right;\">\n",
       "      <th></th>\n",
       "      <th>name</th>\n",
       "      <th>reviews.title</th>\n",
       "      <th>reviews.text</th>\n",
       "      <th>reviews.rating</th>\n",
       "    </tr>\n",
       "  </thead>\n",
       "  <tbody>\n",
       "    <tr>\n",
       "      <th>67</th>\n",
       "      <td>Bogle Vineyards174 Chardonnay - 750ml Bottle</td>\n",
       "      <td>delicious</td>\n",
       "      <td>[wine, fullbodied, delicious]</td>\n",
       "      <td>5.0</td>\n",
       "    </tr>\n",
       "    <tr>\n",
       "      <th>90</th>\n",
       "      <td>Jim Beam174 Bourbon Whiskey - 1.75l Bottle</td>\n",
       "      <td>Best price</td>\n",
       "      <td>[favorite, mixed, drink, whiskey, sam, best, p...</td>\n",
       "      <td>5.0</td>\n",
       "    </tr>\n",
       "    <tr>\n",
       "      <th>91</th>\n",
       "      <td>Jim Beam174 Bourbon Whiskey - 1.75l Bottle</td>\n",
       "      <td>Great product</td>\n",
       "      <td>[best, whiskey, around, price, cant, beat]</td>\n",
       "      <td>5.0</td>\n",
       "    </tr>\n",
       "    <tr>\n",
       "      <th>95</th>\n",
       "      <td>El Jimador174 Tequila Reposado - 750ml Bottle</td>\n",
       "      <td>Love</td>\n",
       "      <td>[always, buy, item, walmart, cause, always, gr...</td>\n",
       "      <td>5.0</td>\n",
       "    </tr>\n",
       "    <tr>\n",
       "      <th>116</th>\n",
       "      <td>Seagram's174 Escapes Malt Beverage Variety Pac...</td>\n",
       "      <td>seagrams escapes</td>\n",
       "      <td>[love, flavor, buying, great, summer, drink]</td>\n",
       "      <td>5.0</td>\n",
       "    </tr>\n",
       "  </tbody>\n",
       "</table>\n",
       "</div>"
      ],
      "text/plain": [
       "                                                  name     reviews.title  \\\n",
       "67        Bogle Vineyards174 Chardonnay - 750ml Bottle         delicious   \n",
       "90          Jim Beam174 Bourbon Whiskey - 1.75l Bottle        Best price   \n",
       "91          Jim Beam174 Bourbon Whiskey - 1.75l Bottle     Great product   \n",
       "95       El Jimador174 Tequila Reposado - 750ml Bottle              Love   \n",
       "116  Seagram's174 Escapes Malt Beverage Variety Pac...  seagrams escapes   \n",
       "\n",
       "                                          reviews.text  reviews.rating  \n",
       "67                       [wine, fullbodied, delicious]             5.0  \n",
       "90   [favorite, mixed, drink, whiskey, sam, best, p...             5.0  \n",
       "91          [best, whiskey, around, price, cant, beat]             5.0  \n",
       "95   [always, buy, item, walmart, cause, always, gr...             5.0  \n",
       "116       [love, flavor, buying, great, summer, drink]             5.0  "
      ]
     },
     "execution_count": 171,
     "metadata": {},
     "output_type": "execute_result"
    }
   ],
   "source": [
    "df.head()"
   ]
  },
  {
   "cell_type": "markdown",
   "metadata": {},
   "source": [
    "다음으로는 스테밍 작업입니다.\n",
    "스테밍이란 단어의 어간을 추출하는 작업입니다. 예를들어 running, runs, runner와 같은 단어를 run으로 바꾸는 작업입니다. "
   ]
  },
  {
   "cell_type": "code",
   "execution_count": 172,
   "metadata": {},
   "outputs": [
    {
     "name": "stderr",
     "output_type": "stream",
     "text": [
      "[nltk_data] Downloading package punkt to /home/codespace/nltk_data...\n",
      "[nltk_data]   Package punkt is already up-to-date!\n"
     ]
    }
   ],
   "source": [
    "from nltk.stem import PorterStemmer\n",
    "# 스테밍에 필요한 NLTK 데이터 파일 다운로드\n",
    "nltk.download('punkt')\n",
    "# 스테밍 함수 정의\n",
    "def stemming(tokens):\n",
    "    stemmer = PorterStemmer()\n",
    "    return [stemmer.stem(token) for token in tokens]\n",
    "\n",
    "# reviews.text에 stemming 함수 적용\n",
    "df['reviews.text'] = df['reviews.text'].apply(stemming)   \n"
   ]
  },
  {
   "cell_type": "code",
   "execution_count": 173,
   "metadata": {},
   "outputs": [
    {
     "data": {
      "text/html": [
       "<div>\n",
       "<style scoped>\n",
       "    .dataframe tbody tr th:only-of-type {\n",
       "        vertical-align: middle;\n",
       "    }\n",
       "\n",
       "    .dataframe tbody tr th {\n",
       "        vertical-align: top;\n",
       "    }\n",
       "\n",
       "    .dataframe thead th {\n",
       "        text-align: right;\n",
       "    }\n",
       "</style>\n",
       "<table border=\"1\" class=\"dataframe\">\n",
       "  <thead>\n",
       "    <tr style=\"text-align: right;\">\n",
       "      <th></th>\n",
       "      <th>name</th>\n",
       "      <th>reviews.title</th>\n",
       "      <th>reviews.text</th>\n",
       "      <th>reviews.rating</th>\n",
       "    </tr>\n",
       "  </thead>\n",
       "  <tbody>\n",
       "    <tr>\n",
       "      <th>67</th>\n",
       "      <td>Bogle Vineyards174 Chardonnay - 750ml Bottle</td>\n",
       "      <td>delicious</td>\n",
       "      <td>[wine, fullbodi, delici]</td>\n",
       "      <td>5.0</td>\n",
       "    </tr>\n",
       "    <tr>\n",
       "      <th>90</th>\n",
       "      <td>Jim Beam174 Bourbon Whiskey - 1.75l Bottle</td>\n",
       "      <td>Best price</td>\n",
       "      <td>[favorit, mix, drink, whiskey, sam, best, pric...</td>\n",
       "      <td>5.0</td>\n",
       "    </tr>\n",
       "    <tr>\n",
       "      <th>91</th>\n",
       "      <td>Jim Beam174 Bourbon Whiskey - 1.75l Bottle</td>\n",
       "      <td>Great product</td>\n",
       "      <td>[best, whiskey, around, price, cant, beat]</td>\n",
       "      <td>5.0</td>\n",
       "    </tr>\n",
       "    <tr>\n",
       "      <th>95</th>\n",
       "      <td>El Jimador174 Tequila Reposado - 750ml Bottle</td>\n",
       "      <td>Love</td>\n",
       "      <td>[alway, buy, item, walmart, caus, alway, great...</td>\n",
       "      <td>5.0</td>\n",
       "    </tr>\n",
       "    <tr>\n",
       "      <th>116</th>\n",
       "      <td>Seagram's174 Escapes Malt Beverage Variety Pac...</td>\n",
       "      <td>seagrams escapes</td>\n",
       "      <td>[love, flavor, buy, great, summer, drink]</td>\n",
       "      <td>5.0</td>\n",
       "    </tr>\n",
       "  </tbody>\n",
       "</table>\n",
       "</div>"
      ],
      "text/plain": [
       "                                                  name     reviews.title  \\\n",
       "67        Bogle Vineyards174 Chardonnay - 750ml Bottle         delicious   \n",
       "90          Jim Beam174 Bourbon Whiskey - 1.75l Bottle        Best price   \n",
       "91          Jim Beam174 Bourbon Whiskey - 1.75l Bottle     Great product   \n",
       "95       El Jimador174 Tequila Reposado - 750ml Bottle              Love   \n",
       "116  Seagram's174 Escapes Malt Beverage Variety Pac...  seagrams escapes   \n",
       "\n",
       "                                          reviews.text  reviews.rating  \n",
       "67                            [wine, fullbodi, delici]             5.0  \n",
       "90   [favorit, mix, drink, whiskey, sam, best, pric...             5.0  \n",
       "91          [best, whiskey, around, price, cant, beat]             5.0  \n",
       "95   [alway, buy, item, walmart, caus, alway, great...             5.0  \n",
       "116          [love, flavor, buy, great, summer, drink]             5.0  "
      ]
     },
     "execution_count": 173,
     "metadata": {},
     "output_type": "execute_result"
    }
   ],
   "source": [
    "df.head()"
   ]
  },
  {
   "cell_type": "markdown",
   "metadata": {},
   "source": [
    "표제어 추출과 스테밍까지 잘 작업된것을 볼 수 있습니다. "
   ]
  },
  {
   "cell_type": "markdown",
   "metadata": {},
   "source": [
    "3. 모델 구현"
   ]
  },
  {
   "cell_type": "markdown",
   "metadata": {},
   "source": [
    "모델은 실습에 사용된 nltk에 있는 vader_lexicon를 사용하겠습니다. "
   ]
  },
  {
   "cell_type": "code",
   "execution_count": 174,
   "metadata": {},
   "outputs": [
    {
     "name": "stderr",
     "output_type": "stream",
     "text": [
      "[nltk_data] Downloading package vader_lexicon to\n",
      "[nltk_data]     /home/codespace/nltk_data...\n",
      "[nltk_data]   Package vader_lexicon is already up-to-date!\n"
     ]
    }
   ],
   "source": [
    "from nltk.sentiment.vader import SentimentIntensityAnalyzer\n",
    "# 감성 분석에 필요한 NLTK 데이터 파일 다운로드\n",
    "nltk.download('vader_lexicon')\n",
    "\n",
    "# VADER 감정 분석기 초기화\n",
    "vader_sentiment = SentimentIntensityAnalyzer()\n",
    "\n",
    "# 감정 계산 함수 정의\n",
    "def calc_sentiment(review): \n",
    "    review_text = ' '.join(review)  # 리스트를 문자열로 변환(토큰화를 하여 리스트로 넘겨주게 됩니다.)\n",
    "    return vader_sentiment.polarity_scores(review_text)[\"compound\"] # 리뷰가 텍스트인 경우 VADER 감정 분석기를 사용하여 감정 점수(컴파운드 스코어)를 계산하고 반환\n",
    "\n",
    "# 감정 점수 계산 및 데이터프레임에 추가\n",
    "# reviews.text와 reviews.title에 calc_sentiment 함수 적용 후 결과를 df에 추가 한다.\n",
    "df['Sentiment_Score'] = df['reviews.text'].apply(calc_sentiment)"
   ]
  },
  {
   "cell_type": "code",
   "execution_count": 175,
   "metadata": {},
   "outputs": [
    {
     "data": {
      "text/html": [
       "<div>\n",
       "<style scoped>\n",
       "    .dataframe tbody tr th:only-of-type {\n",
       "        vertical-align: middle;\n",
       "    }\n",
       "\n",
       "    .dataframe tbody tr th {\n",
       "        vertical-align: top;\n",
       "    }\n",
       "\n",
       "    .dataframe thead th {\n",
       "        text-align: right;\n",
       "    }\n",
       "</style>\n",
       "<table border=\"1\" class=\"dataframe\">\n",
       "  <thead>\n",
       "    <tr style=\"text-align: right;\">\n",
       "      <th></th>\n",
       "      <th>name</th>\n",
       "      <th>reviews.title</th>\n",
       "      <th>reviews.text</th>\n",
       "      <th>reviews.rating</th>\n",
       "      <th>Sentiment_Score</th>\n",
       "    </tr>\n",
       "  </thead>\n",
       "  <tbody>\n",
       "    <tr>\n",
       "      <th>67</th>\n",
       "      <td>Bogle Vineyards174 Chardonnay - 750ml Bottle</td>\n",
       "      <td>delicious</td>\n",
       "      <td>[wine, fullbodi, delici]</td>\n",
       "      <td>5.0</td>\n",
       "      <td>0.0000</td>\n",
       "    </tr>\n",
       "    <tr>\n",
       "      <th>90</th>\n",
       "      <td>Jim Beam174 Bourbon Whiskey - 1.75l Bottle</td>\n",
       "      <td>Best price</td>\n",
       "      <td>[favorit, mix, drink, whiskey, sam, best, pric...</td>\n",
       "      <td>5.0</td>\n",
       "      <td>0.7430</td>\n",
       "    </tr>\n",
       "    <tr>\n",
       "      <th>91</th>\n",
       "      <td>Jim Beam174 Bourbon Whiskey - 1.75l Bottle</td>\n",
       "      <td>Great product</td>\n",
       "      <td>[best, whiskey, around, price, cant, beat]</td>\n",
       "      <td>5.0</td>\n",
       "      <td>0.6369</td>\n",
       "    </tr>\n",
       "    <tr>\n",
       "      <th>95</th>\n",
       "      <td>El Jimador174 Tequila Reposado - 750ml Bottle</td>\n",
       "      <td>Love</td>\n",
       "      <td>[alway, buy, item, walmart, caus, alway, great...</td>\n",
       "      <td>5.0</td>\n",
       "      <td>0.6249</td>\n",
       "    </tr>\n",
       "    <tr>\n",
       "      <th>116</th>\n",
       "      <td>Seagram's174 Escapes Malt Beverage Variety Pac...</td>\n",
       "      <td>seagrams escapes</td>\n",
       "      <td>[love, flavor, buy, great, summer, drink]</td>\n",
       "      <td>5.0</td>\n",
       "      <td>0.8519</td>\n",
       "    </tr>\n",
       "  </tbody>\n",
       "</table>\n",
       "</div>"
      ],
      "text/plain": [
       "                                                  name     reviews.title  \\\n",
       "67        Bogle Vineyards174 Chardonnay - 750ml Bottle         delicious   \n",
       "90          Jim Beam174 Bourbon Whiskey - 1.75l Bottle        Best price   \n",
       "91          Jim Beam174 Bourbon Whiskey - 1.75l Bottle     Great product   \n",
       "95       El Jimador174 Tequila Reposado - 750ml Bottle              Love   \n",
       "116  Seagram's174 Escapes Malt Beverage Variety Pac...  seagrams escapes   \n",
       "\n",
       "                                          reviews.text  reviews.rating  \\\n",
       "67                            [wine, fullbodi, delici]             5.0   \n",
       "90   [favorit, mix, drink, whiskey, sam, best, pric...             5.0   \n",
       "91          [best, whiskey, around, price, cant, beat]             5.0   \n",
       "95   [alway, buy, item, walmart, caus, alway, great...             5.0   \n",
       "116          [love, flavor, buy, great, summer, drink]             5.0   \n",
       "\n",
       "     Sentiment_Score  \n",
       "67            0.0000  \n",
       "90            0.7430  \n",
       "91            0.6369  \n",
       "95            0.6249  \n",
       "116           0.8519  "
      ]
     },
     "execution_count": 175,
     "metadata": {},
     "output_type": "execute_result"
    }
   ],
   "source": [
    "df.head()"
   ]
  },
  {
   "cell_type": "markdown",
   "metadata": {},
   "source": [
    "Sentiment_Score라는 열이 추가되어 reviews.text의 검정 분석 점수를 담고있는것을 알 수 있습니다. "
   ]
  },
  {
   "cell_type": "code",
   "execution_count": 176,
   "metadata": {},
   "outputs": [
    {
     "data": {
      "text/html": [
       "<div>\n",
       "<style scoped>\n",
       "    .dataframe tbody tr th:only-of-type {\n",
       "        vertical-align: middle;\n",
       "    }\n",
       "\n",
       "    .dataframe tbody tr th {\n",
       "        vertical-align: top;\n",
       "    }\n",
       "\n",
       "    .dataframe thead th {\n",
       "        text-align: right;\n",
       "    }\n",
       "</style>\n",
       "<table border=\"1\" class=\"dataframe\">\n",
       "  <thead>\n",
       "    <tr style=\"text-align: right;\">\n",
       "      <th></th>\n",
       "      <th>name</th>\n",
       "      <th>reviews.title</th>\n",
       "      <th>reviews.text</th>\n",
       "      <th>reviews.rating</th>\n",
       "      <th>Sentiment_Score</th>\n",
       "    </tr>\n",
       "  </thead>\n",
       "  <tbody>\n",
       "    <tr>\n",
       "      <th>1501</th>\n",
       "      <td>Mr _ Mrs T Margarita Mix, 33.8 oz ()</td>\n",
       "      <td>Great Product, excellent taste!</td>\n",
       "      <td>[recent, begun, enjoy, margarita, havent, done...</td>\n",
       "      <td>5.0</td>\n",
       "      <td>0.9826</td>\n",
       "    </tr>\n",
       "    <tr>\n",
       "      <th>1566</th>\n",
       "      <td>Coco Real Cream Of Coconut, 21 oz ()</td>\n",
       "      <td>This makes a great syrup for pancakes and waff...</td>\n",
       "      <td>[search, coconut, syrup, walmart, one, day, fo...</td>\n",
       "      <td>5.0</td>\n",
       "      <td>0.9778</td>\n",
       "    </tr>\n",
       "    <tr>\n",
       "      <th>2195</th>\n",
       "      <td>Carmex Lip Balm Original Jar - 12 PK, 12.</td>\n",
       "      <td>Carmex protects</td>\n",
       "      <td>[love, carmex, product, best, tri, true, littl...</td>\n",
       "      <td>5.0</td>\n",
       "      <td>0.9723</td>\n",
       "    </tr>\n",
       "    <tr>\n",
       "      <th>2564</th>\n",
       "      <td>Carmex Lip Balm Original Jar - 12 PK, 12.</td>\n",
       "      <td>Unlike any other lip remedy!</td>\n",
       "      <td>[lip, almost, alway, chap, without, carmex, iv...</td>\n",
       "      <td>5.0</td>\n",
       "      <td>0.9718</td>\n",
       "    </tr>\n",
       "    <tr>\n",
       "      <th>1081</th>\n",
       "      <td>Jose Cuervo174 Light Margarita Mix - 1.75l Bottle</td>\n",
       "      <td>Skinny Margarita</td>\n",
       "      <td>[wife, love, margarita, alway, struggl, make, ...</td>\n",
       "      <td>5.0</td>\n",
       "      <td>0.9712</td>\n",
       "    </tr>\n",
       "  </tbody>\n",
       "</table>\n",
       "</div>"
      ],
      "text/plain": [
       "                                                   name  \\\n",
       "1501               Mr _ Mrs T Margarita Mix, 33.8 oz ()   \n",
       "1566               Coco Real Cream Of Coconut, 21 oz ()   \n",
       "2195          Carmex Lip Balm Original Jar - 12 PK, 12.   \n",
       "2564          Carmex Lip Balm Original Jar - 12 PK, 12.   \n",
       "1081  Jose Cuervo174 Light Margarita Mix - 1.75l Bottle   \n",
       "\n",
       "                                          reviews.title  \\\n",
       "1501                    Great Product, excellent taste!   \n",
       "1566  This makes a great syrup for pancakes and waff...   \n",
       "2195                                    Carmex protects   \n",
       "2564                       Unlike any other lip remedy!   \n",
       "1081                                   Skinny Margarita   \n",
       "\n",
       "                                           reviews.text  reviews.rating  \\\n",
       "1501  [recent, begun, enjoy, margarita, havent, done...             5.0   \n",
       "1566  [search, coconut, syrup, walmart, one, day, fo...             5.0   \n",
       "2195  [love, carmex, product, best, tri, true, littl...             5.0   \n",
       "2564  [lip, almost, alway, chap, without, carmex, iv...             5.0   \n",
       "1081  [wife, love, margarita, alway, struggl, make, ...             5.0   \n",
       "\n",
       "      Sentiment_Score  \n",
       "1501           0.9826  \n",
       "1566           0.9778  \n",
       "2195           0.9723  \n",
       "2564           0.9718  \n",
       "1081           0.9712  "
      ]
     },
     "execution_count": 176,
     "metadata": {},
     "output_type": "execute_result"
    }
   ],
   "source": [
    "# Sentiment_Score 높은 순으로 5개 살펴보기\n",
    "df.sort_values(by='Sentiment_Score', ascending=False).head(5)"
   ]
  },
  {
   "cell_type": "code",
   "execution_count": 177,
   "metadata": {},
   "outputs": [
    {
     "data": {
      "text/html": [
       "<div>\n",
       "<style scoped>\n",
       "    .dataframe tbody tr th:only-of-type {\n",
       "        vertical-align: middle;\n",
       "    }\n",
       "\n",
       "    .dataframe tbody tr th {\n",
       "        vertical-align: top;\n",
       "    }\n",
       "\n",
       "    .dataframe thead th {\n",
       "        text-align: right;\n",
       "    }\n",
       "</style>\n",
       "<table border=\"1\" class=\"dataframe\">\n",
       "  <thead>\n",
       "    <tr style=\"text-align: right;\">\n",
       "      <th></th>\n",
       "      <th>name</th>\n",
       "      <th>reviews.title</th>\n",
       "      <th>reviews.text</th>\n",
       "      <th>reviews.rating</th>\n",
       "      <th>Sentiment_Score</th>\n",
       "    </tr>\n",
       "  </thead>\n",
       "  <tbody>\n",
       "    <tr>\n",
       "      <th>2473</th>\n",
       "      <td>Carmex Lip Balm Original Jar - 12 PK, 12.</td>\n",
       "      <td>LOVE this Jar</td>\n",
       "      <td>[bought, origin, sooth, pain, cold, sore, one,...</td>\n",
       "      <td>5.0</td>\n",
       "      <td>-0.8779</td>\n",
       "    </tr>\n",
       "    <tr>\n",
       "      <th>2383</th>\n",
       "      <td>Carmex Lip Balm Original Jar - 12 PK, 12.</td>\n",
       "      <td>Lips and Cold Sores That Sometimes Do Not Heal</td>\n",
       "      <td>[bought, carmex, sever, year, ago, big, bad, b...</td>\n",
       "      <td>5.0</td>\n",
       "      <td>-0.8750</td>\n",
       "    </tr>\n",
       "    <tr>\n",
       "      <th>2380</th>\n",
       "      <td>Carmex Lip Balm Original Jar - 12 PK, 12.</td>\n",
       "      <td>necessary element in first aid kit</td>\n",
       "      <td>[littl, jar, content, item, go, stress, season...</td>\n",
       "      <td>5.0</td>\n",
       "      <td>-0.8555</td>\n",
       "    </tr>\n",
       "    <tr>\n",
       "      <th>2516</th>\n",
       "      <td>Carmex Lip Balm Original Jar - 12 PK, 12.</td>\n",
       "      <td>28 Year's</td>\n",
       "      <td>[first, start, use, went, visit, granni, got, ...</td>\n",
       "      <td>5.0</td>\n",
       "      <td>-0.8176</td>\n",
       "    </tr>\n",
       "    <tr>\n",
       "      <th>2529</th>\n",
       "      <td>Carmex Lip Balm Original Jar - 12 PK, 12.</td>\n",
       "      <td>Awesome Product!</td>\n",
       "      <td>[rememb, back, small, child, father, would, al...</td>\n",
       "      <td>5.0</td>\n",
       "      <td>-0.8042</td>\n",
       "    </tr>\n",
       "  </tbody>\n",
       "</table>\n",
       "</div>"
      ],
      "text/plain": [
       "                                           name  \\\n",
       "2473  Carmex Lip Balm Original Jar - 12 PK, 12.   \n",
       "2383  Carmex Lip Balm Original Jar - 12 PK, 12.   \n",
       "2380  Carmex Lip Balm Original Jar - 12 PK, 12.   \n",
       "2516  Carmex Lip Balm Original Jar - 12 PK, 12.   \n",
       "2529  Carmex Lip Balm Original Jar - 12 PK, 12.   \n",
       "\n",
       "                                       reviews.title  \\\n",
       "2473                                   LOVE this Jar   \n",
       "2383  Lips and Cold Sores That Sometimes Do Not Heal   \n",
       "2380              necessary element in first aid kit   \n",
       "2516                                       28 Year's   \n",
       "2529                                Awesome Product!   \n",
       "\n",
       "                                           reviews.text  reviews.rating  \\\n",
       "2473  [bought, origin, sooth, pain, cold, sore, one,...             5.0   \n",
       "2383  [bought, carmex, sever, year, ago, big, bad, b...             5.0   \n",
       "2380  [littl, jar, content, item, go, stress, season...             5.0   \n",
       "2516  [first, start, use, went, visit, granni, got, ...             5.0   \n",
       "2529  [rememb, back, small, child, father, would, al...             5.0   \n",
       "\n",
       "      Sentiment_Score  \n",
       "2473          -0.8779  \n",
       "2383          -0.8750  \n",
       "2380          -0.8555  \n",
       "2516          -0.8176  \n",
       "2529          -0.8042  "
      ]
     },
     "execution_count": 177,
     "metadata": {},
     "output_type": "execute_result"
    }
   ],
   "source": [
    "# Sentiment_Score 낮은 순으로 5개 살펴보기\n",
    "df.sort_values(by='Sentiment_Score').head(5)"
   ]
  },
  {
   "cell_type": "markdown",
   "metadata": {},
   "source": [
    "Sentiment_Score가 높은 리뷰들을 보면 love와 같은 긍정적인 단어들을 많이 찾아볼 수 있고, 낮은 리뷰들을 보면 stress, small과 같은 부정적인 단어들이 눈에 들어옵니다. \n",
    "하지만 Sentiment_Score가 낮은데 reviews.rating은 높은점도 확인 할 수 있습니다."
   ]
  },
  {
   "cell_type": "markdown",
   "metadata": {},
   "source": [
    "Sentiment_Score와 reiews.rating 점수를 살펴 포겠습니다."
   ]
  },
  {
   "cell_type": "code",
   "execution_count": 178,
   "metadata": {},
   "outputs": [
    {
     "name": "stdout",
     "output_type": "stream",
     "text": [
      "-0.8779\n",
      "0.9826\n",
      "1.0\n",
      "5.0\n"
     ]
    }
   ],
   "source": [
    "print(df['Sentiment_Score'].min())\n",
    "print(df['Sentiment_Score'].max())\n",
    "print(df['reviews.rating'].min())\n",
    "print(df['reviews.rating'].max())"
   ]
  },
  {
   "cell_type": "markdown",
   "metadata": {},
   "source": [
    "Sentiment_Score는 -1~1사이의 값이고 reviews.rating은 1~5사이의 값임을 알 수 있습니다."
   ]
  },
  {
   "cell_type": "markdown",
   "metadata": {},
   "source": [
    "다음으로 Sentiment_Score와 reviews.rating 점수가 서로 맞는지 확인하는 작업을 해보겠습니다.\n",
    "Sentiment_Score는 0을 기준으로 reviews.rating은 3을 기준으로 둘다 높거나 둘다 낮으면 두 데이터가 같은 방향의 감정을 본다고 판단하여 true를 아니면 false를 주는 작업을 합니다."
   ]
  },
  {
   "cell_type": "code",
   "execution_count": 179,
   "metadata": {},
   "outputs": [],
   "source": [
    "# Sentiment_Score와 reviews.rating 매칭 함수 정의\n",
    "def match(df):\n",
    "    if (df['Sentiment_Score'] >= 0 and df['reviews.rating'] >= 3) or (df['Sentiment_Score'] < 0 and df['reviews.rating'] < 3):\n",
    "        return True\n",
    "    else:\n",
    "        return False\n",
    "\n",
    "# match 함수 적용 후 match열을 만들어 생성\n",
    "df['match'] = df.apply(match, axis=1)"
   ]
  },
  {
   "cell_type": "code",
   "execution_count": 180,
   "metadata": {},
   "outputs": [
    {
     "data": {
      "text/html": [
       "<div>\n",
       "<style scoped>\n",
       "    .dataframe tbody tr th:only-of-type {\n",
       "        vertical-align: middle;\n",
       "    }\n",
       "\n",
       "    .dataframe tbody tr th {\n",
       "        vertical-align: top;\n",
       "    }\n",
       "\n",
       "    .dataframe thead th {\n",
       "        text-align: right;\n",
       "    }\n",
       "</style>\n",
       "<table border=\"1\" class=\"dataframe\">\n",
       "  <thead>\n",
       "    <tr style=\"text-align: right;\">\n",
       "      <th></th>\n",
       "      <th>name</th>\n",
       "      <th>reviews.title</th>\n",
       "      <th>reviews.text</th>\n",
       "      <th>reviews.rating</th>\n",
       "      <th>Sentiment_Score</th>\n",
       "      <th>match</th>\n",
       "    </tr>\n",
       "  </thead>\n",
       "  <tbody>\n",
       "    <tr>\n",
       "      <th>67</th>\n",
       "      <td>Bogle Vineyards174 Chardonnay - 750ml Bottle</td>\n",
       "      <td>delicious</td>\n",
       "      <td>[wine, fullbodi, delici]</td>\n",
       "      <td>5.0</td>\n",
       "      <td>0.0000</td>\n",
       "      <td>True</td>\n",
       "    </tr>\n",
       "    <tr>\n",
       "      <th>90</th>\n",
       "      <td>Jim Beam174 Bourbon Whiskey - 1.75l Bottle</td>\n",
       "      <td>Best price</td>\n",
       "      <td>[favorit, mix, drink, whiskey, sam, best, pric...</td>\n",
       "      <td>5.0</td>\n",
       "      <td>0.7430</td>\n",
       "      <td>True</td>\n",
       "    </tr>\n",
       "    <tr>\n",
       "      <th>91</th>\n",
       "      <td>Jim Beam174 Bourbon Whiskey - 1.75l Bottle</td>\n",
       "      <td>Great product</td>\n",
       "      <td>[best, whiskey, around, price, cant, beat]</td>\n",
       "      <td>5.0</td>\n",
       "      <td>0.6369</td>\n",
       "      <td>True</td>\n",
       "    </tr>\n",
       "    <tr>\n",
       "      <th>95</th>\n",
       "      <td>El Jimador174 Tequila Reposado - 750ml Bottle</td>\n",
       "      <td>Love</td>\n",
       "      <td>[alway, buy, item, walmart, caus, alway, great...</td>\n",
       "      <td>5.0</td>\n",
       "      <td>0.6249</td>\n",
       "      <td>True</td>\n",
       "    </tr>\n",
       "    <tr>\n",
       "      <th>116</th>\n",
       "      <td>Seagram's174 Escapes Malt Beverage Variety Pac...</td>\n",
       "      <td>seagrams escapes</td>\n",
       "      <td>[love, flavor, buy, great, summer, drink]</td>\n",
       "      <td>5.0</td>\n",
       "      <td>0.8519</td>\n",
       "      <td>True</td>\n",
       "    </tr>\n",
       "  </tbody>\n",
       "</table>\n",
       "</div>"
      ],
      "text/plain": [
       "                                                  name     reviews.title  \\\n",
       "67        Bogle Vineyards174 Chardonnay - 750ml Bottle         delicious   \n",
       "90          Jim Beam174 Bourbon Whiskey - 1.75l Bottle        Best price   \n",
       "91          Jim Beam174 Bourbon Whiskey - 1.75l Bottle     Great product   \n",
       "95       El Jimador174 Tequila Reposado - 750ml Bottle              Love   \n",
       "116  Seagram's174 Escapes Malt Beverage Variety Pac...  seagrams escapes   \n",
       "\n",
       "                                          reviews.text  reviews.rating  \\\n",
       "67                            [wine, fullbodi, delici]             5.0   \n",
       "90   [favorit, mix, drink, whiskey, sam, best, pric...             5.0   \n",
       "91          [best, whiskey, around, price, cant, beat]             5.0   \n",
       "95   [alway, buy, item, walmart, caus, alway, great...             5.0   \n",
       "116          [love, flavor, buy, great, summer, drink]             5.0   \n",
       "\n",
       "     Sentiment_Score  match  \n",
       "67            0.0000   True  \n",
       "90            0.7430   True  \n",
       "91            0.6369   True  \n",
       "95            0.6249   True  \n",
       "116           0.8519   True  "
      ]
     },
     "execution_count": 180,
     "metadata": {},
     "output_type": "execute_result"
    }
   ],
   "source": [
    "df.head()"
   ]
  },
  {
   "cell_type": "code",
   "execution_count": 181,
   "metadata": {},
   "outputs": [
    {
     "data": {
      "text/html": [
       "<div>\n",
       "<style scoped>\n",
       "    .dataframe tbody tr th:only-of-type {\n",
       "        vertical-align: middle;\n",
       "    }\n",
       "\n",
       "    .dataframe tbody tr th {\n",
       "        vertical-align: top;\n",
       "    }\n",
       "\n",
       "    .dataframe thead th {\n",
       "        text-align: right;\n",
       "    }\n",
       "</style>\n",
       "<table border=\"1\" class=\"dataframe\">\n",
       "  <thead>\n",
       "    <tr style=\"text-align: right;\">\n",
       "      <th></th>\n",
       "      <th>name</th>\n",
       "      <th>reviews.title</th>\n",
       "      <th>reviews.text</th>\n",
       "      <th>reviews.rating</th>\n",
       "      <th>Sentiment_Score</th>\n",
       "      <th>match</th>\n",
       "    </tr>\n",
       "  </thead>\n",
       "  <tbody>\n",
       "    <tr>\n",
       "      <th>2329</th>\n",
       "      <td>Carmex Lip Balm Original Jar - 12 PK, 12.</td>\n",
       "      <td>heals my lips extremely well</td>\n",
       "      <td>[dri, chap, lip, way, bad, habit, would, like,...</td>\n",
       "      <td>5.0</td>\n",
       "      <td>-0.2732</td>\n",
       "      <td>False</td>\n",
       "    </tr>\n",
       "    <tr>\n",
       "      <th>2359</th>\n",
       "      <td>Carmex Lip Balm Original Jar - 12 PK, 12.</td>\n",
       "      <td>Can't leave home without it!</td>\n",
       "      <td>[never, run, caramel, long, rememb, keep, leas...</td>\n",
       "      <td>5.0</td>\n",
       "      <td>-0.1877</td>\n",
       "      <td>False</td>\n",
       "    </tr>\n",
       "    <tr>\n",
       "      <th>2543</th>\n",
       "      <td>Carmex Lip Balm Original Jar - 12 PK, 12.</td>\n",
       "      <td>Smooth soft lips!</td>\n",
       "      <td>[bought, carmex, jar, month, ago, live, georgi...</td>\n",
       "      <td>5.0</td>\n",
       "      <td>-0.5873</td>\n",
       "      <td>False</td>\n",
       "    </tr>\n",
       "    <tr>\n",
       "      <th>1816</th>\n",
       "      <td>Carmex Lip Balm Original Jar - 12 PK, 12.</td>\n",
       "      <td>heals</td>\n",
       "      <td>[son, problem, thing, clear, rash, surrond, lip]</td>\n",
       "      <td>5.0</td>\n",
       "      <td>-0.4215</td>\n",
       "      <td>False</td>\n",
       "    </tr>\n",
       "    <tr>\n",
       "      <th>2395</th>\n",
       "      <td>Carmex Lip Balm Original Jar - 12 PK, 12.</td>\n",
       "      <td>soothing feeling</td>\n",
       "      <td>[ive, use, product, coupl, day, an, done, absa...</td>\n",
       "      <td>5.0</td>\n",
       "      <td>-0.5267</td>\n",
       "      <td>False</td>\n",
       "    </tr>\n",
       "  </tbody>\n",
       "</table>\n",
       "</div>"
      ],
      "text/plain": [
       "                                           name                 reviews.title  \\\n",
       "2329  Carmex Lip Balm Original Jar - 12 PK, 12.  heals my lips extremely well   \n",
       "2359  Carmex Lip Balm Original Jar - 12 PK, 12.  Can't leave home without it!   \n",
       "2543  Carmex Lip Balm Original Jar - 12 PK, 12.             Smooth soft lips!   \n",
       "1816  Carmex Lip Balm Original Jar - 12 PK, 12.                         heals   \n",
       "2395  Carmex Lip Balm Original Jar - 12 PK, 12.              soothing feeling   \n",
       "\n",
       "                                           reviews.text  reviews.rating  \\\n",
       "2329  [dri, chap, lip, way, bad, habit, would, like,...             5.0   \n",
       "2359  [never, run, caramel, long, rememb, keep, leas...             5.0   \n",
       "2543  [bought, carmex, jar, month, ago, live, georgi...             5.0   \n",
       "1816   [son, problem, thing, clear, rash, surrond, lip]             5.0   \n",
       "2395  [ive, use, product, coupl, day, an, done, absa...             5.0   \n",
       "\n",
       "      Sentiment_Score  match  \n",
       "2329          -0.2732  False  \n",
       "2359          -0.1877  False  \n",
       "2543          -0.5873  False  \n",
       "1816          -0.4215  False  \n",
       "2395          -0.5267  False  "
      ]
     },
     "execution_count": 181,
     "metadata": {},
     "output_type": "execute_result"
    }
   ],
   "source": [
    "df.sort_values(by='match').head(5)"
   ]
  },
  {
   "cell_type": "markdown",
   "metadata": {},
   "source": [
    "Sentiment_Score와 reviews.rating가 매칭 되었을땐 True를 매칭되지 않았을땐 False를 받은 모습입니다."
   ]
  },
  {
   "cell_type": "code",
   "execution_count": 182,
   "metadata": {},
   "outputs": [
    {
     "name": "stdout",
     "output_type": "stream",
     "text": [
      "1229\n",
      "150\n"
     ]
    }
   ],
   "source": [
    "print(df[df['match'] == True].shape[0])  # match열의 true 값의 개수 합\n",
    "print(df[df['match'] == False].shape[0]) # match열의 false 값의 개수 합"
   ]
  },
  {
   "cell_type": "markdown",
   "metadata": {},
   "source": [
    "감정 분석이 reviews.rating과 맞는 값이 1229개 맞지 않는 값이 150개로 나옵니다.\n",
    "대부분의 감정 분석이 reviews.rating과 잘 맞는 모습을 보여줍니다. "
   ]
  },
  {
   "cell_type": "markdown",
   "metadata": {},
   "source": [
    "다음은 학습을 위해 Sentiment_Score를 이진법으로 새로운 열을 만들겠습니다."
   ]
  },
  {
   "cell_type": "code",
   "execution_count": 183,
   "metadata": {},
   "outputs": [],
   "source": [
    "# Sentiment_Score가 0이상이면 Sentiment_Category열을 만들어 1을 아니면 0을 넣는 함수 적용\n",
    "df['Sentiment_Category'] = df['Sentiment_Score'].apply(lambda x: 1 if x >= 0 else 0)"
   ]
  },
  {
   "cell_type": "code",
   "execution_count": 184,
   "metadata": {},
   "outputs": [
    {
     "data": {
      "text/html": [
       "<div>\n",
       "<style scoped>\n",
       "    .dataframe tbody tr th:only-of-type {\n",
       "        vertical-align: middle;\n",
       "    }\n",
       "\n",
       "    .dataframe tbody tr th {\n",
       "        vertical-align: top;\n",
       "    }\n",
       "\n",
       "    .dataframe thead th {\n",
       "        text-align: right;\n",
       "    }\n",
       "</style>\n",
       "<table border=\"1\" class=\"dataframe\">\n",
       "  <thead>\n",
       "    <tr style=\"text-align: right;\">\n",
       "      <th></th>\n",
       "      <th>name</th>\n",
       "      <th>reviews.title</th>\n",
       "      <th>reviews.text</th>\n",
       "      <th>reviews.rating</th>\n",
       "      <th>Sentiment_Score</th>\n",
       "      <th>match</th>\n",
       "      <th>Sentiment_Category</th>\n",
       "    </tr>\n",
       "  </thead>\n",
       "  <tbody>\n",
       "    <tr>\n",
       "      <th>67</th>\n",
       "      <td>Bogle Vineyards174 Chardonnay - 750ml Bottle</td>\n",
       "      <td>delicious</td>\n",
       "      <td>[wine, fullbodi, delici]</td>\n",
       "      <td>5.0</td>\n",
       "      <td>0.0000</td>\n",
       "      <td>True</td>\n",
       "      <td>1</td>\n",
       "    </tr>\n",
       "    <tr>\n",
       "      <th>90</th>\n",
       "      <td>Jim Beam174 Bourbon Whiskey - 1.75l Bottle</td>\n",
       "      <td>Best price</td>\n",
       "      <td>[favorit, mix, drink, whiskey, sam, best, pric...</td>\n",
       "      <td>5.0</td>\n",
       "      <td>0.7430</td>\n",
       "      <td>True</td>\n",
       "      <td>1</td>\n",
       "    </tr>\n",
       "    <tr>\n",
       "      <th>91</th>\n",
       "      <td>Jim Beam174 Bourbon Whiskey - 1.75l Bottle</td>\n",
       "      <td>Great product</td>\n",
       "      <td>[best, whiskey, around, price, cant, beat]</td>\n",
       "      <td>5.0</td>\n",
       "      <td>0.6369</td>\n",
       "      <td>True</td>\n",
       "      <td>1</td>\n",
       "    </tr>\n",
       "    <tr>\n",
       "      <th>95</th>\n",
       "      <td>El Jimador174 Tequila Reposado - 750ml Bottle</td>\n",
       "      <td>Love</td>\n",
       "      <td>[alway, buy, item, walmart, caus, alway, great...</td>\n",
       "      <td>5.0</td>\n",
       "      <td>0.6249</td>\n",
       "      <td>True</td>\n",
       "      <td>1</td>\n",
       "    </tr>\n",
       "    <tr>\n",
       "      <th>116</th>\n",
       "      <td>Seagram's174 Escapes Malt Beverage Variety Pac...</td>\n",
       "      <td>seagrams escapes</td>\n",
       "      <td>[love, flavor, buy, great, summer, drink]</td>\n",
       "      <td>5.0</td>\n",
       "      <td>0.8519</td>\n",
       "      <td>True</td>\n",
       "      <td>1</td>\n",
       "    </tr>\n",
       "  </tbody>\n",
       "</table>\n",
       "</div>"
      ],
      "text/plain": [
       "                                                  name     reviews.title  \\\n",
       "67        Bogle Vineyards174 Chardonnay - 750ml Bottle         delicious   \n",
       "90          Jim Beam174 Bourbon Whiskey - 1.75l Bottle        Best price   \n",
       "91          Jim Beam174 Bourbon Whiskey - 1.75l Bottle     Great product   \n",
       "95       El Jimador174 Tequila Reposado - 750ml Bottle              Love   \n",
       "116  Seagram's174 Escapes Malt Beverage Variety Pac...  seagrams escapes   \n",
       "\n",
       "                                          reviews.text  reviews.rating  \\\n",
       "67                            [wine, fullbodi, delici]             5.0   \n",
       "90   [favorit, mix, drink, whiskey, sam, best, pric...             5.0   \n",
       "91          [best, whiskey, around, price, cant, beat]             5.0   \n",
       "95   [alway, buy, item, walmart, caus, alway, great...             5.0   \n",
       "116          [love, flavor, buy, great, summer, drink]             5.0   \n",
       "\n",
       "     Sentiment_Score  match  Sentiment_Category  \n",
       "67            0.0000   True                   1  \n",
       "90            0.7430   True                   1  \n",
       "91            0.6369   True                   1  \n",
       "95            0.6249   True                   1  \n",
       "116           0.8519   True                   1  "
      ]
     },
     "execution_count": 184,
     "metadata": {},
     "output_type": "execute_result"
    }
   ],
   "source": [
    "df.head()"
   ]
  },
  {
   "cell_type": "code",
   "execution_count": 185,
   "metadata": {},
   "outputs": [],
   "source": [
    "# 전처리가 완료된 파일 csv로 저장하기\n",
    "df.to_csv('clear_wine_reviews.csv', index=False)"
   ]
  },
  {
   "cell_type": "markdown",
   "metadata": {},
   "source": [
    "4. 모델 학습 및 튜닝"
   ]
  },
  {
   "cell_type": "code",
   "execution_count": 186,
   "metadata": {},
   "outputs": [],
   "source": [
    "# 필요한 sklearn 패키지 설치\n",
    "from sklearn.feature_extraction.text import TfidfVectorizer\n",
    "from sklearn.model_selection import train_test_split\n",
    "from sklearn.linear_model import LogisticRegression\n",
    "from sklearn.metrics import mean_squared_error\n",
    "from sklearn.metrics import accuracy_score, classification_report, confusion_matrix"
   ]
  },
  {
   "cell_type": "markdown",
   "metadata": {},
   "source": [
    "TF-IDF 벡터화는 문자열 리스트인 reviews.text를 학습을 위해 벡터로 바꿔주는 작업입니다."
   ]
  },
  {
   "cell_type": "code",
   "execution_count": 187,
   "metadata": {},
   "outputs": [
    {
     "name": "stdout",
     "output_type": "stream",
     "text": [
      "  (0, 2445)\t0.5743560500266838\n",
      "  (0, 853)\t0.6723658110676249\n",
      "  (0, 556)\t0.4669468319895962\n",
      "  (1, 764)\t0.271468316790377\n",
      "  (1, 1372)\t0.25352123758955286\n",
      "  (1, 628)\t0.2792471894225404\n",
      "  (1, 2435)\t0.4342092340840668\n",
      "  (1, 1845)\t0.42005122113016363\n",
      "  (1, 200)\t0.2042520357862497\n",
      "  (1, 1666)\t0.25829401352704356\n",
      "  (1, 967)\t0.4524620873903351\n",
      "  (1, 2419)\t0.2482308409255055\n",
      "  (1, 301)\t0.21046869713551336\n",
      "  (2, 2435)\t0.571839112919384\n",
      "  (2, 200)\t0.26899313461715535\n",
      "  (2, 1666)\t0.3401646210478688\n",
      "  (2, 113)\t0.3773743242688635\n",
      "  (2, 317)\t0.34417621907931545\n",
      "  (2, 177)\t0.473351986004764\n",
      "  (3, 1666)\t0.325482688159482\n",
      "  (3, 301)\t0.2652168216431325\n",
      "  (3, 63)\t0.48209747943055326\n",
      "  (3, 1122)\t0.4225804119588279\n",
      "  (3, 2394)\t0.3887719908336248\n",
      "  (3, 341)\t0.4593211257066204\n",
      "  :\t:\n",
      "  (1375, 945)\t0.1744662514317773\n",
      "  (1375, 2275)\t0.1744662514317773\n",
      "  (1375, 1091)\t0.1744662514317773\n",
      "  (1376, 1270)\t0.18557676246787355\n",
      "  (1376, 1062)\t0.3239755385064802\n",
      "  (1376, 2142)\t0.39427876884091934\n",
      "  (1376, 488)\t0.4547738687981086\n",
      "  (1376, 446)\t0.4628577491024493\n",
      "  (1376, 1156)\t0.35865450355205514\n",
      "  (1376, 989)\t0.39427876884091934\n",
      "  (1377, 628)\t0.2165191237420639\n",
      "  (1377, 650)\t0.2165191237420639\n",
      "  (1377, 271)\t0.27164717246561576\n",
      "  (1377, 2359)\t0.27868709060264946\n",
      "  (1377, 904)\t0.16391936932329312\n",
      "  (1377, 1678)\t0.11382052447687001\n",
      "  (1377, 1717)\t0.5831884656908898\n",
      "  (1377, 1898)\t0.32569395779403204\n",
      "  (1377, 1662)\t0.27868709060264946\n",
      "  (1377, 1977)\t0.32569395779403204\n",
      "  (1377, 740)\t0.2915942328454449\n",
      "  (1378, 934)\t0.4260749989068302\n",
      "  (1378, 1270)\t0.3662553224506587\n",
      "  (1378, 2462)\t0.42810760201671194\n",
      "  (1378, 1156)\t0.7078425073267421\n"
     ]
    }
   ],
   "source": [
    "# reviews.text를 리스트에서 공백으로 구분된 문자열로 변환\n",
    "df['reviews.text'] = df['reviews.text'].apply(lambda x: ' '.join(x))\n",
    "# TF-IDF 벡터화\n",
    "tfidf = TfidfVectorizer()\n",
    "# TF-IDF 벡터화 후 x값으로 지정\n",
    "x = tfidf.fit_transform(df['reviews.text'])\n",
    "print(x)\n",
    "# y값 지정\n",
    "y = df['Sentiment_Category']"
   ]
  },
  {
   "cell_type": "code",
   "execution_count": 188,
   "metadata": {},
   "outputs": [],
   "source": [
    "# 학습 데이터와 테스트 데이터를 8:2로 나누는 작업\n",
    "x_train, x_test, y_train, y_test = train_test_split(x, y, test_size=0.2, random_state=42)"
   ]
  },
  {
   "cell_type": "code",
   "execution_count": 189,
   "metadata": {},
   "outputs": [],
   "source": [
    "# 모델은 로지스틱 회귀를 사용하였습니다.\n",
    "# 모델 초기화\n",
    "model = LogisticRegression()\n"
   ]
  },
  {
   "cell_type": "markdown",
   "metadata": {},
   "source": [
    "그리드 서치를 이용하여 최적의 하이퍼 파라미터를 찾아보겠습니다."
   ]
  },
  {
   "cell_type": "markdown",
   "metadata": {},
   "source": [
    "교차검증\n",
    "\n",
    "cv = 5는 k-fold 교차 검증을 사용하여 데이터를 5개 부분으로 나누어 검증하는 것입니다. 각 폴드를 학습하고 나머지 폴드로 검증하는 기법입니다. "
   ]
  },
  {
   "cell_type": "code",
   "execution_count": 190,
   "metadata": {},
   "outputs": [
    {
     "name": "stdout",
     "output_type": "stream",
     "text": [
      "{'C': 10}\n"
     ]
    }
   ],
   "source": [
    "from sklearn.model_selection import GridSearchCV\n",
    "\n",
    "param_grid = {'C': [0.001, 0.01, 0.1, 1, 10, 100]} # 탐색할 파라미터의 그리드 설정\n",
    "grid_search = GridSearchCV(estimator=model, param_grid=param_grid, cv=5, scoring='accuracy') # 모델과 파라미터, 교차 검증의 폴드 수, 성능평가 지표 설정\n",
    "grid_search.fit(x_train, y_train)\n",
    "\n",
    "best_params = grid_search.best_params_ # 최적의 파라미터 저장하기\n",
    "best_model = grid_search.best_estimator_ # 최적의 파라미터로 튜닝된 모델 저장하기\n",
    "print(best_params)"
   ]
  },
  {
   "cell_type": "markdown",
   "metadata": {},
   "source": [
    "최적의 하이퍼 파라미터가 10으로 나온것을 볼 수 있습니다."
   ]
  },
  {
   "cell_type": "markdown",
   "metadata": {},
   "source": [
    "그리드 서치를 활용하여 찾아낸 최적의 하이퍼 파라미터로 만든 최적의 모델로 학습을 진행하겠습니다. "
   ]
  },
  {
   "cell_type": "code",
   "execution_count": 191,
   "metadata": {},
   "outputs": [],
   "source": [
    "best_model.fit(x_train, y_train) # 학습하기\n",
    "y_pred = best_model.predict(x_test) # 예측값 저장하기"
   ]
  },
  {
   "cell_type": "markdown",
   "metadata": {},
   "source": [
    "5. 모델 평가"
   ]
  },
  {
   "cell_type": "code",
   "execution_count": 192,
   "metadata": {},
   "outputs": [
    {
     "name": "stdout",
     "output_type": "stream",
     "text": [
      "정확도: 0.9130\n",
      "정밀도: 0.9148\n",
      "재현율: 0.9960\n",
      "F1 점수: 0.9537\n",
      "ROC-AUC: 0.8090\n",
      "              precision    recall  f1-score   support\n",
      "\n",
      "           0       0.83      0.18      0.29        28\n",
      "           1       0.91      1.00      0.95       248\n",
      "\n",
      "    accuracy                           0.91       276\n",
      "   macro avg       0.87      0.59      0.62       276\n",
      "weighted avg       0.91      0.91      0.89       276\n",
      "\n"
     ]
    }
   ],
   "source": [
    "from sklearn.metrics import accuracy_score, precision_score, recall_score, f1_score, roc_auc_score, confusion_matrix\n",
    "\n",
    "# 정확도 계산\n",
    "accuracy = accuracy_score(y_test, y_pred)\n",
    "print(f'정확도: {accuracy:.4f}')\n",
    "\n",
    "# 정밀도 계산\n",
    "precision = precision_score(y_test, y_pred)\n",
    "print(f'정밀도: {precision:.4f}')\n",
    "\n",
    "# 재현율 계산\n",
    "recall = recall_score(y_test, y_pred)\n",
    "print(f'재현율: {recall:.4f}')\n",
    "\n",
    "# F1 점수 계산\n",
    "f1 = f1_score(y_test, y_pred)\n",
    "print(f'F1 점수: {f1:.4f}')\n",
    "\n",
    "# ROC-AUC 계산\n",
    "y_scores = best_model.decision_function(x_test) \n",
    "roc_auc = roc_auc_score(y_test, y_scores)\n",
    "\n",
    "print(f'ROC-AUC: {roc_auc:.4f}')\n",
    "\n",
    "# 여러 지표 계산\n",
    "print(classification_report(y_test, y_pred))\n"
   ]
  },
  {
   "cell_type": "markdown",
   "metadata": {},
   "source": [
    "정확도는 0.913으로 전체 예측 중 올바르게 예측한 비율을 나타냅니다. (맞춘 예측 수 / 전체 예측 수)으로 계산됩니다.\n",
    "\n",
    "정밀도는 0.9148로 모델이 True로 예측한 것이 실제로 True인 비율을 나타내는 지표입니다. TP / (TP + FP)으로 계산됩니다.\n",
    "\n",
    "재현율은 0.996으로 실제 True인 데이터를 모델이 True로 예측한 비율입니다. TP / (TP + FN)으로 계산됩니다.\n",
    "\n",
    "F1점수는 0.9537으로 정밀도와 재현율의 조화 평균으로 계산되는 지표입니다. 2 * (정밀도 * 재현율) / (정밀도 + 재현율) 으로 계산됩니다.\n",
    "\n",
    "ROC-AUC는 0.8090으로 Receiver Operating Characteristic - Area Under the Curve의 약자로 모델의 성능을 평가하는데 사용되는 지표입니다. ROC 곡선의 아래 면적을 나타냅니다. 보통 0.5~1사이의 값을 가지며 1에 가까울 수록 성능이 좋은 모델입니다. \n",
    "\n",
    "성능이 나쁘지는 않지만 또 매우 좋다고도 할 수 없습니다. 정확도와 정밀도도 0.95이상이 나오면 좋을거 같고 ROC-AUC도 0.9이상이 나오면 좋을거 같습니다. 재현율은 현재도 좋은 상태입니다. \n",
    "\n",
    "좋은 데이터를 추가하여 수행하거나 여러 학습 모델을 학습한 후 제일 좋은 모델을 선택하는 앙상블 기법을 사용하거나 데이터 전처리에 좀더 신경을 써 모델의 성능을 올려보는것도 좋아보입니다. "
   ]
  },
  {
   "cell_type": "markdown",
   "metadata": {},
   "source": [
    "오버피팅과 언더피팅 논의\n",
    "\n",
    "정확도와 정밀도, 재현율은 잘 나오지만  ROC-AUC는 다소 낮게 나오는것으로 보아 오버피팅이 일어나진 않은거 같습니다. 하지만 정확도가 낮은게 아니라 언더피팅인것도 아닐거 같습니다. 만약 언더피팅이라면 더 복잡한 모델인 SVM을 사용하거나 하이퍼 파라미터를 다시 조정하는 방법들이 있습니다. 반면 오버피팅이라면 더 많은 데이터를 사용하거나 앙상블 기법을 사용하는 방법이 있습니다."
   ]
  },
  {
   "cell_type": "markdown",
   "metadata": {},
   "source": [
    "6. 시각화"
   ]
  },
  {
   "cell_type": "code",
   "execution_count": 193,
   "metadata": {},
   "outputs": [],
   "source": [
    "# 시각화에 필요한 라이브러리 설치\n",
    "from sklearn.metrics import confusion_matrix\n",
    "import seaborn as sns\n",
    "import matplotlib.pyplot as plt"
   ]
  },
  {
   "cell_type": "markdown",
   "metadata": {},
   "source": [
    "혼동 행렬을 출력 및 시각화 해보겠습니다."
   ]
  },
  {
   "cell_type": "markdown",
   "metadata": {},
   "source": [
    "혼동 행렬이란 모델의 예측 결과를 실제 클래스와 비교하여 나타낸 표입니다.\n",
    "[[TN, FP],\n",
    "[FN, TP]]\n",
    "형식으로 나타내집니다. \n"
   ]
  },
  {
   "cell_type": "code",
   "execution_count": 194,
   "metadata": {},
   "outputs": [
    {
     "name": "stdout",
     "output_type": "stream",
     "text": [
      "혼동 행렬:\n",
      " [[  5  23]\n",
      " [  1 247]]\n"
     ]
    }
   ],
   "source": [
    "# 혼동 행렬 출력\n",
    "conf_matrix = confusion_matrix(y_test, y_pred)\n",
    "print('혼동 행렬:\\n', conf_matrix)"
   ]
  },
  {
   "cell_type": "markdown",
   "metadata": {},
   "source": [
    "TN은 실제 Negative인 데이터를 Negative로 정확히 예측한 경우의 수입니다. 저희는 5가 나왔습니다. \n",
    "\n",
    "FP는 실제 Negative인 데이터를 Positive로 잘못 예측한 경우의 수입니다. 23이 나왔습니다. \n",
    "\n",
    "FN은 실제 Positive인 데이터를 Negative로 잘못 예측한 경우의 수입니다. 1개가 나왔습니다. \n",
    "\n",
    "TP는 실제 Positive인 데이터를 Positive로 정확히 예측한 경우의 수입니다. 247개가 나왔습니다. \n",
    "\n",
    "잘못 분류한 데이터는 23+1으로 24개 데이터 입니다. 잘 분류한 데이터는 247+5으로 252개 입니다. 대부분 잘 맞춘것을 볼 수 있습니다. "
   ]
  },
  {
   "cell_type": "markdown",
   "metadata": {},
   "source": [
    "혼돈 행렬이 치우져진 이유를 추측해보겠습니다."
   ]
  },
  {
   "cell_type": "code",
   "execution_count": 195,
   "metadata": {},
   "outputs": [
    {
     "name": "stdout",
     "output_type": "stream",
     "text": [
      "1의 갯수: 1252\n",
      "0의 갯수: 127\n"
     ]
    }
   ],
   "source": [
    "# 전처리 후 저장한 clear_wine_reviews.csv파일 읽기\n",
    "file_path = 'clear_wine_reviews.csv'\n",
    "\n",
    "df2 = pd.read_csv(file_path)\n",
    "\n",
    "# Sentiment_Category의 1의 개수와 0의갯수 계산하기\n",
    "count_1 = df['Sentiment_Category'].sum()  # 1의 갯수\n",
    "count_0 = len(df) - count_1  # 0의 갯수 (전체 길이에서 1의 갯수를 뺀 값)\n",
    "\n",
    "print(f'1의 갯수: {count_1}')\n",
    "print(f'0의 갯수: {count_0}')"
   ]
  },
  {
   "cell_type": "markdown",
   "metadata": {},
   "source": [
    "1의 갯수가 0의 갯수보다 월등히 많음을 알 수 있습니다. 이로인해 혼동행렬또한 치우져진것으로 생각됩니다. "
   ]
  },
  {
   "cell_type": "code",
   "execution_count": 196,
   "metadata": {},
   "outputs": [
    {
     "data": {
      "image/png": "[encoded data removed]",
      "text/plain": [
       "<Figure size 800x600 with 1 Axes>"
      ]
     },
     "metadata": {},
     "output_type": "display_data"
    }
   ],
   "source": [
    "# 혼동 행렬 시각화\n",
    "plt.figure(figsize=(8, 6))\n",
    "sns.heatmap(conf_matrix, annot=True, cmap='Blues', fmt='d', cbar=False, annot_kws={'size': 14}, linewidths=0.5) #  Seaborn 라이브러리의 heatmap을 그립니다. \n",
    "plt.title('Confusion Matrix', fontsize=15) # 제목 설정\n",
    "plt.xlabel('Predicted Labels', fontsize=12) # x축 제목 설정\n",
    "plt.ylabel('True Labels', fontsize=12) # y축 제목 설정\n",
    "plt.show()"
   ]
  },
  {
   "cell_type": "markdown",
   "metadata": {},
   "source": [
    "숫자가 큰 부분일수록 파란색이 짙어지는것을 알 수 있습니다."
   ]
  },
  {
   "cell_type": "markdown",
   "metadata": {},
   "source": [
    "다음은 ROC 곡선 시각화 입니다."
   ]
  },
  {
   "cell_type": "code",
   "execution_count": 197,
   "metadata": {},
   "outputs": [
    {
     "data": {
      "image/png": "[encoded data removed]",
      "text/plain": [
       "<Figure size 800x600 with 1 Axes>"
      ]
     },
     "metadata": {},
     "output_type": "display_data"
    }
   ],
   "source": [
    "from sklearn.metrics import roc_curve, auc\n",
    "# ROC 곡선 계산\n",
    "fpr, tpr, thresholds = roc_curve(y_test, y_scores) # fpr는 거짓 양성 비율이고 tp는 진짜 양성 비율입니다.\n",
    "roc_auc = auc(fpr, tpr) # auc는 곡선의 아래 면적을 계산합니다. \n",
    "\n",
    "# ROC 곡선 시각화\n",
    "plt.figure(figsize=(8, 6))\n",
    "plt.plot(fpr, tpr, color='darkorange', label=f'ROC curve (area = {roc_auc:.2f})') # x축은 fpr, y축은 tpr로 그래프를 그립니다. 라벨로 roc_auc값(면적의 넓이)을 표시합니다.\n",
    "plt.plot([0, 1], [0, 1], color='navy', linestyle='--') # 기준선 그리기 (y=x 그래프 입니다)\n",
    "plt.xlabel('False Positive Rate', fontsize=12) # 축 제목\n",
    "plt.ylabel('True Positive Rate', fontsize=12) # y축 제목\n",
    "plt.title('ROC Curve', fontsize=15) # 그래프 제목\n",
    "plt.legend(loc='lower right') # 범례 위치\n",
    "plt.show()"
   ]
  },
  {
   "cell_type": "markdown",
   "metadata": {},
   "source": [
    "roc 곡선의 결과값은 조금더 욕심 내어보아도 괜찮을거 같습니다. \n",
    "\n",
    "roc곡선의 아래 면적의 넓이가 0.81로 나쁘진 않은 결과이지만 조금 더 올릴 수 있을거 같습니다."
   ]
  }
 ],
 "metadata": {
  "language_info": {
   "name": "python"
  }
 },
 "nbformat": 4,
 "nbformat_minor": 2
}
